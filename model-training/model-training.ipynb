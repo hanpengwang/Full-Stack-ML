{
 "cells": [
  {
   "cell_type": "code",
   "execution_count": 179,
   "metadata": {
    "scrolled": false
   },
   "outputs": [
    {
     "name": "stdout",
     "output_type": "stream",
     "text": [
      "\n"
     ]
    }
   ],
   "source": [
    "\"\"\"\n",
    "\n",
    "Import all dependencies \n",
    "\n",
    "\"\"\"\n",
    "\n",
    "from os import listdir\n",
    "from mtcnn.mtcnn import MTCNN   ## algorithm for extract faces \n",
    "from matplotlib import pyplot\n",
    "import tensorflow as tf\n",
    "from PIL import Image\n",
    "import numpy as np\n",
    "from os import walk\n",
    "from os import path\n",
    "from os import mkdir\n",
    "from collections import Counter\n",
    "import pandas as pd\n",
    "from random import randint\n",
    "\n",
    "\n",
    "import plotly.express as px\n",
    "from plotly import offline\n",
    "from matplotlib import pyplot as plt\n",
    "\n",
    "\n",
    "import tensorflow as tf\n",
    "from keras_preprocessing.image import ImageDataGenerator\n",
    "from keras import models\n",
    "from keras import layers\n",
    "from keras import optimizers\n",
    "from keras import metrics\n",
    "from keras import losses\n",
    "\n",
    "\n",
    "\n",
    "\n",
    "tf.compat.v1.logging.set_verbosity(tf.compat.v1.logging.ERROR)\n",
    "\n",
    "\n",
    "\n",
    "\"\"\"\n",
    "projectPath = \"/home/hanpeng/Projects/ML-FullStack\"\n",
    "detector = MTCNN()\n",
    "global_count = 0 \n",
    "def Extract_Face(filename):\n",
    "    \n",
    "    global global_count\n",
    "    global_count = global_count + 1\n",
    "    if global_count % 1000 == 0:\n",
    "        print(\"processing {n}th files\".format(n=global_count) )\n",
    "    try:\n",
    "        face_image = pyplot.imread(filename)\n",
    "        detections = detector.detect_faces(face_image)\n",
    "        if detections == []:\n",
    "            with open(projectPath+\"/extract-face-errors.txt\", \"w\") as text_file:\n",
    "                text_file.write(\"no face detected from {filename}\".format(filename=filename))\n",
    "            return\n",
    "\n",
    "        arr = detections[0][\"box\"]\n",
    "        face = face_image[arr[1]:arr[1]+arr[3], arr[0]:arr[0]+arr[2], :]\n",
    "        img = Image.fromarray(face, 'RGB')\n",
    "        img.save(projectPath+\"/extract-faces/\"+filename.split(\"/\")[-1])\n",
    "\n",
    "    except Exception as e:\n",
    "        with open(projectPath+\"/extract-face-errors.txt\", \"w\") as text_file:\n",
    "            text_file.write(\"the file {filename} has error: {error}\".format(filename=filename, error=e))\n",
    "\n",
    "\n",
    "            \n",
    "image_path = projectPath + \"/extract-faces/\"\n",
    "image_files = []\n",
    "for (dirpath, dirnames, files) in walk(image_path):\n",
    "    image_files.extend([image_path + f for f in files])\n",
    "    break\n",
    "    \n",
    "\"\"\"\n",
    "print(\"\")"
   ]
  },
  {
   "cell_type": "markdown",
   "metadata": {},
   "source": [
    "### data source https://susanqq.github.io/UTKFace/   -> for training and validation"
   ]
  },
  {
   "cell_type": "code",
   "execution_count": 215,
   "metadata": {},
   "outputs": [],
   "source": [
    "class Model_Prep:\n",
    "    \n",
    "    def __init__(self, work_dir):\n",
    "        self.work_dir = work_dir\n",
    "        self.face_dir = path.join(self.work_dir, \"extract-face\")\n",
    "  \n",
    "\n",
    "    def extract_face(self, image_dir):\n",
    "        self.count_image = 0\n",
    "        mkdir(self.face_dir)\n",
    "        self.detector = MTCNN()\n",
    "        image_files = []\n",
    "        for (dirpath, dirnames, files) in walk(image_dir):\n",
    "            image_files.extend([path.join(image_dir,f) for f in files])\n",
    "            break\n",
    "        \n",
    "       \n",
    "        for f in image_files:\n",
    "            self.mtcnn_helper(f)\n",
    "        \n",
    "    \n",
    "    def data_prep(self, percentage_val):\n",
    "        \n",
    "        \"\"\"\n",
    "        get labels and face files \n",
    "        \"\"\"\n",
    "        \n",
    "        for (dirpath, dirnames, files) in walk(self.face_dir):\n",
    "            face_files = []\n",
    "            self.labels_int = []\n",
    "            self.labels_str = []\n",
    "            face_files = [path.join(dirpath,f) for f in files]\n",
    "            for f in files:\n",
    "                face_files.append(path.join(dirpath,f))\n",
    "                self.labels_int.append(int(f.split(\"_\")[0]))\n",
    "                self.labels_str.append(f.split(\"_\")[0])\n",
    "            break\n",
    "        \n",
    "        \n",
    "        \"\"\"\n",
    "        pair labels and files \n",
    "        \n",
    "        len(image_files) = labels_str where each label pairs one file  \n",
    "        \"\"\"\n",
    "        \n",
    "\n",
    "        label_image_dic = {}\n",
    "        for f,l in zip(face_files, self.labels_int):\n",
    "            if l not in label_image_dic:\n",
    "                label_image_dic[l] = [f]\n",
    "            else:\n",
    "                label_image_dic[l].append(f)\n",
    "                \n",
    "        \"\"\"\n",
    "        random split train and val data\n",
    "        \"\"\"\n",
    "        \n",
    "        percentage_val = percentage_val\n",
    "        file_val = []\n",
    "        l_val = []\n",
    "        file_train = []\n",
    "        l_train =[]\n",
    "        for k in label_image_dic.keys():\n",
    "            l_images = label_image_dic[k]\n",
    "            num_val = int(len(l_images) * percentage_val) \n",
    "            rand_upper = len(l_images) - 1\n",
    "            if len(l_images) < 10:\n",
    "                file_val.append(l_images[0])\n",
    "                l_val.append(k)\n",
    "                #del label_image_dic[k][rand]\n",
    "            else:\n",
    "                for n in range(num_val):\n",
    "                    index = randint(0,rand_upper)\n",
    "                    file_val.append(l_images[index])\n",
    "                    l_val.append(k)\n",
    "                    del label_image_dic[k][index]\n",
    "                    rand_upper -= 1\n",
    "            file_train.extend(label_image_dic[k])\n",
    "            l_train.extend([k]*len(label_image_dic[k]))\n",
    "        \n",
    "        return (file_val, l_val, file_train, l_train)\n",
    "        \n",
    "    @staticmethod\n",
    "    def data_preprocess(file_val, l_val, file_train, l_train, image_dim, batch_size_train,batch_size_val):\n",
    "\n",
    "        \"\"\"\n",
    "        create keras image generator from dataframe\n",
    "        \"\"\"\n",
    "        \n",
    "        data_gen = ImageDataGenerator(\n",
    "                        rescale=1.0/255.0,\n",
    "                        horizontal_flip = True,\n",
    "                        zoom_range = 0.1,\n",
    "                        shear_range = 0.1,\n",
    "                        rotation_range=20,\n",
    "                        fill_mode = \"nearest\")\n",
    "        val_gen = ImageDataGenerator(\n",
    "                        rescale=1./255)\n",
    "\n",
    "\n",
    "        df = pd.DataFrame(data={\"filename\":file_train, \"class\":l_train})\n",
    "        df_val = pd.DataFrame(data={\"filename\":file_val, \"class\":l_val})\n",
    "        train_gen = data_gen.flow_from_dataframe(dataframe=df, \n",
    "                                                 target_size=image_dim, \n",
    "                                                 batch_size=batch_size_train, \n",
    "                                                 class_mode = \"raw\",\n",
    "                                                 seed=0)\n",
    "        val_gen = data_gen.flow_from_dataframe(dataframe=df_val, \n",
    "                                               target_size=image_dim, \n",
    "                                               batch_size=batch_size_val, \n",
    "                                               class_mode = \"raw\",\n",
    "                                               seed=1)\n",
    "        \n",
    "        return (train_gen, val_gen)\n",
    "        \n",
    "        \n",
    "    \n",
    "    \n",
    "    def mtcnn_helper(self, image_dir):\n",
    "        self.count_image += 1 \n",
    "        image_name = image_dir.split(\"/\")[-1]\n",
    "        error_log = path.join(self.work_dir, \"face-extract-error.txt\")\n",
    "        if self.count_image % 1000 == 0:\n",
    "            print(\"processing {n}th files\".format(n=self.count_image) )\n",
    "        \n",
    "        try:\n",
    "            face_image = pyplot.imread(image_dir)\n",
    "            detections = self.detector.detect_faces(face_image)\n",
    "            if detections == []:\n",
    "                with open(error_log, \"a\") as text_file:\n",
    "                    text_file.write(\"\\n no face detected from {filename}\".format(filename=image_name))\n",
    "                return\n",
    "\n",
    "            arr = detections[0][\"box\"]\n",
    "            face = face_image[arr[1]:arr[1]+arr[3], arr[0]:arr[0]+arr[2], :]\n",
    "            img = Image.fromarray(face, 'RGB')\n",
    "            img.save(path.join(self.face_dir,image_name))\n",
    "\n",
    "        except Exception as e:\n",
    "            with open(error_log, \"a\") as text_file:\n",
    "                text_file.write(\"\\n the file {filename} has error: {error}\".format(filename=image_name, error=e))\n",
    "        "
   ]
  },
  {
   "cell_type": "code",
   "execution_count": 214,
   "metadata": {
    "scrolled": true
   },
   "outputs": [
    {
     "name": "stdout",
     "output_type": "stream",
     "text": [
      "Found 21259 validated image filenames.\n",
      "Found 2320 validated image filenames.\n"
     ]
    }
   ],
   "source": [
    "model_prep = Model_Prep(\"/home/hanpeng/Desktop/model-training-test\")\n",
    "(file_val, l_val, file_train, l_train) = model_prep.data_prep(0.1)\n",
    "(train_gen, val_gen) = test.data_preprocess(file_val, l_val, file_train, l_train, (150,150),32,16)"
   ]
  },
  {
   "cell_type": "markdown",
   "metadata": {},
   "source": [
    "### our image data is not even close to uniform distribution, this will cause some biases when we train our networks\n",
    "\n"
   ]
  },
  {
   "cell_type": "code",
   "execution_count": 236,
   "metadata": {},
   "outputs": [
    {
     "data": {
      "application/vnd.plotly.v1+json": {
       "config": {
        "plotlyServerURL": "https://plot.ly"
       },
       "data": [
        {
         "alignmentgroup": "True",
         "hovertemplate": "x=%{x}<br>y=%{y}<extra></extra>",
         "legendgroup": "",
         "marker": {
          "color": "#636efa"
         },
         "name": "",
         "offsetgroup": "",
         "orientation": "v",
         "showlegend": false,
         "textposition": "auto",
         "type": "bar",
         "x": [
          "13",
          "60",
          "73",
          "25",
          "26",
          "7",
          "1",
          "4",
          "30",
          "40",
          "11",
          "32",
          "48",
          "17",
          "47",
          "15",
          "75",
          "9",
          "22",
          "21",
          "16",
          "36",
          "19",
          "37",
          "28",
          "27",
          "68",
          "24",
          "35",
          "34",
          "85",
          "55",
          "8",
          "54",
          "23",
          "53",
          "3",
          "45",
          "29",
          "31",
          "90",
          "70",
          "58",
          "52",
          "62",
          "2",
          "82",
          "18",
          "46",
          "20",
          "38",
          "43",
          "49",
          "76",
          "64",
          "33",
          "41",
          "56",
          "5",
          "61",
          "65",
          "63",
          "10",
          "69",
          "14",
          "50",
          "57",
          "67",
          "59",
          "42",
          "44",
          "12",
          "51",
          "6",
          "39",
          "80",
          "89",
          "84",
          "66",
          "72",
          "74",
          "77",
          "92",
          "81",
          "86",
          "79",
          "78",
          "96",
          "88",
          "103",
          "100",
          "71",
          "87",
          "101",
          "83",
          "93",
          "99",
          "105",
          "95",
          "115",
          "110",
          "116",
          "91",
          "111"
         ],
         "xaxis": "x",
         "y": [
          81,
          292,
          62,
          727,
          2149,
          140,
          1227,
          279,
          709,
          519,
          63,
          651,
          153,
          159,
          172,
          176,
          150,
          167,
          381,
          342,
          245,
          471,
          96,
          289,
          901,
          598,
          100,
          829,
          865,
          406,
          153,
          264,
          267,
          351,
          416,
          240,
          297,
          437,
          564,
          345,
          83,
          145,
          272,
          230,
          126,
          517,
          38,
          252,
          152,
          272,
          319,
          157,
          146,
          58,
          50,
          138,
          130,
          236,
          207,
          159,
          258,
          102,
          152,
          54,
          161,
          374,
          97,
          95,
          82,
          260,
          99,
          130,
          137,
          129,
          266,
          128,
          35,
          26,
          78,
          97,
          30,
          29,
          12,
          23,
          36,
          20,
          69,
          17,
          34,
          1,
          11,
          34,
          11,
          2,
          17,
          5,
          9,
          5,
          9,
          3,
          4,
          4,
          2,
          1
         ],
         "yaxis": "y"
        }
       ],
       "layout": {
        "barmode": "relative",
        "legend": {
         "tracegroupgap": 0
        },
        "margin": {
         "t": 60
        },
        "template": {
         "data": {
          "bar": [
           {
            "error_x": {
             "color": "#2a3f5f"
            },
            "error_y": {
             "color": "#2a3f5f"
            },
            "marker": {
             "line": {
              "color": "#E5ECF6",
              "width": 0.5
             }
            },
            "type": "bar"
           }
          ],
          "barpolar": [
           {
            "marker": {
             "line": {
              "color": "#E5ECF6",
              "width": 0.5
             }
            },
            "type": "barpolar"
           }
          ],
          "carpet": [
           {
            "aaxis": {
             "endlinecolor": "#2a3f5f",
             "gridcolor": "white",
             "linecolor": "white",
             "minorgridcolor": "white",
             "startlinecolor": "#2a3f5f"
            },
            "baxis": {
             "endlinecolor": "#2a3f5f",
             "gridcolor": "white",
             "linecolor": "white",
             "minorgridcolor": "white",
             "startlinecolor": "#2a3f5f"
            },
            "type": "carpet"
           }
          ],
          "choropleth": [
           {
            "colorbar": {
             "outlinewidth": 0,
             "ticks": ""
            },
            "type": "choropleth"
           }
          ],
          "contour": [
           {
            "colorbar": {
             "outlinewidth": 0,
             "ticks": ""
            },
            "colorscale": [
             [
              0,
              "#0d0887"
             ],
             [
              0.1111111111111111,
              "#46039f"
             ],
             [
              0.2222222222222222,
              "#7201a8"
             ],
             [
              0.3333333333333333,
              "#9c179e"
             ],
             [
              0.4444444444444444,
              "#bd3786"
             ],
             [
              0.5555555555555556,
              "#d8576b"
             ],
             [
              0.6666666666666666,
              "#ed7953"
             ],
             [
              0.7777777777777778,
              "#fb9f3a"
             ],
             [
              0.8888888888888888,
              "#fdca26"
             ],
             [
              1,
              "#f0f921"
             ]
            ],
            "type": "contour"
           }
          ],
          "contourcarpet": [
           {
            "colorbar": {
             "outlinewidth": 0,
             "ticks": ""
            },
            "type": "contourcarpet"
           }
          ],
          "heatmap": [
           {
            "colorbar": {
             "outlinewidth": 0,
             "ticks": ""
            },
            "colorscale": [
             [
              0,
              "#0d0887"
             ],
             [
              0.1111111111111111,
              "#46039f"
             ],
             [
              0.2222222222222222,
              "#7201a8"
             ],
             [
              0.3333333333333333,
              "#9c179e"
             ],
             [
              0.4444444444444444,
              "#bd3786"
             ],
             [
              0.5555555555555556,
              "#d8576b"
             ],
             [
              0.6666666666666666,
              "#ed7953"
             ],
             [
              0.7777777777777778,
              "#fb9f3a"
             ],
             [
              0.8888888888888888,
              "#fdca26"
             ],
             [
              1,
              "#f0f921"
             ]
            ],
            "type": "heatmap"
           }
          ],
          "heatmapgl": [
           {
            "colorbar": {
             "outlinewidth": 0,
             "ticks": ""
            },
            "colorscale": [
             [
              0,
              "#0d0887"
             ],
             [
              0.1111111111111111,
              "#46039f"
             ],
             [
              0.2222222222222222,
              "#7201a8"
             ],
             [
              0.3333333333333333,
              "#9c179e"
             ],
             [
              0.4444444444444444,
              "#bd3786"
             ],
             [
              0.5555555555555556,
              "#d8576b"
             ],
             [
              0.6666666666666666,
              "#ed7953"
             ],
             [
              0.7777777777777778,
              "#fb9f3a"
             ],
             [
              0.8888888888888888,
              "#fdca26"
             ],
             [
              1,
              "#f0f921"
             ]
            ],
            "type": "heatmapgl"
           }
          ],
          "histogram": [
           {
            "marker": {
             "colorbar": {
              "outlinewidth": 0,
              "ticks": ""
             }
            },
            "type": "histogram"
           }
          ],
          "histogram2d": [
           {
            "colorbar": {
             "outlinewidth": 0,
             "ticks": ""
            },
            "colorscale": [
             [
              0,
              "#0d0887"
             ],
             [
              0.1111111111111111,
              "#46039f"
             ],
             [
              0.2222222222222222,
              "#7201a8"
             ],
             [
              0.3333333333333333,
              "#9c179e"
             ],
             [
              0.4444444444444444,
              "#bd3786"
             ],
             [
              0.5555555555555556,
              "#d8576b"
             ],
             [
              0.6666666666666666,
              "#ed7953"
             ],
             [
              0.7777777777777778,
              "#fb9f3a"
             ],
             [
              0.8888888888888888,
              "#fdca26"
             ],
             [
              1,
              "#f0f921"
             ]
            ],
            "type": "histogram2d"
           }
          ],
          "histogram2dcontour": [
           {
            "colorbar": {
             "outlinewidth": 0,
             "ticks": ""
            },
            "colorscale": [
             [
              0,
              "#0d0887"
             ],
             [
              0.1111111111111111,
              "#46039f"
             ],
             [
              0.2222222222222222,
              "#7201a8"
             ],
             [
              0.3333333333333333,
              "#9c179e"
             ],
             [
              0.4444444444444444,
              "#bd3786"
             ],
             [
              0.5555555555555556,
              "#d8576b"
             ],
             [
              0.6666666666666666,
              "#ed7953"
             ],
             [
              0.7777777777777778,
              "#fb9f3a"
             ],
             [
              0.8888888888888888,
              "#fdca26"
             ],
             [
              1,
              "#f0f921"
             ]
            ],
            "type": "histogram2dcontour"
           }
          ],
          "mesh3d": [
           {
            "colorbar": {
             "outlinewidth": 0,
             "ticks": ""
            },
            "type": "mesh3d"
           }
          ],
          "parcoords": [
           {
            "line": {
             "colorbar": {
              "outlinewidth": 0,
              "ticks": ""
             }
            },
            "type": "parcoords"
           }
          ],
          "pie": [
           {
            "automargin": true,
            "type": "pie"
           }
          ],
          "scatter": [
           {
            "marker": {
             "colorbar": {
              "outlinewidth": 0,
              "ticks": ""
             }
            },
            "type": "scatter"
           }
          ],
          "scatter3d": [
           {
            "line": {
             "colorbar": {
              "outlinewidth": 0,
              "ticks": ""
             }
            },
            "marker": {
             "colorbar": {
              "outlinewidth": 0,
              "ticks": ""
             }
            },
            "type": "scatter3d"
           }
          ],
          "scattercarpet": [
           {
            "marker": {
             "colorbar": {
              "outlinewidth": 0,
              "ticks": ""
             }
            },
            "type": "scattercarpet"
           }
          ],
          "scattergeo": [
           {
            "marker": {
             "colorbar": {
              "outlinewidth": 0,
              "ticks": ""
             }
            },
            "type": "scattergeo"
           }
          ],
          "scattergl": [
           {
            "marker": {
             "colorbar": {
              "outlinewidth": 0,
              "ticks": ""
             }
            },
            "type": "scattergl"
           }
          ],
          "scattermapbox": [
           {
            "marker": {
             "colorbar": {
              "outlinewidth": 0,
              "ticks": ""
             }
            },
            "type": "scattermapbox"
           }
          ],
          "scatterpolar": [
           {
            "marker": {
             "colorbar": {
              "outlinewidth": 0,
              "ticks": ""
             }
            },
            "type": "scatterpolar"
           }
          ],
          "scatterpolargl": [
           {
            "marker": {
             "colorbar": {
              "outlinewidth": 0,
              "ticks": ""
             }
            },
            "type": "scatterpolargl"
           }
          ],
          "scatterternary": [
           {
            "marker": {
             "colorbar": {
              "outlinewidth": 0,
              "ticks": ""
             }
            },
            "type": "scatterternary"
           }
          ],
          "surface": [
           {
            "colorbar": {
             "outlinewidth": 0,
             "ticks": ""
            },
            "colorscale": [
             [
              0,
              "#0d0887"
             ],
             [
              0.1111111111111111,
              "#46039f"
             ],
             [
              0.2222222222222222,
              "#7201a8"
             ],
             [
              0.3333333333333333,
              "#9c179e"
             ],
             [
              0.4444444444444444,
              "#bd3786"
             ],
             [
              0.5555555555555556,
              "#d8576b"
             ],
             [
              0.6666666666666666,
              "#ed7953"
             ],
             [
              0.7777777777777778,
              "#fb9f3a"
             ],
             [
              0.8888888888888888,
              "#fdca26"
             ],
             [
              1,
              "#f0f921"
             ]
            ],
            "type": "surface"
           }
          ],
          "table": [
           {
            "cells": {
             "fill": {
              "color": "#EBF0F8"
             },
             "line": {
              "color": "white"
             }
            },
            "header": {
             "fill": {
              "color": "#C8D4E3"
             },
             "line": {
              "color": "white"
             }
            },
            "type": "table"
           }
          ]
         },
         "layout": {
          "annotationdefaults": {
           "arrowcolor": "#2a3f5f",
           "arrowhead": 0,
           "arrowwidth": 1
          },
          "coloraxis": {
           "colorbar": {
            "outlinewidth": 0,
            "ticks": ""
           }
          },
          "colorscale": {
           "diverging": [
            [
             0,
             "#8e0152"
            ],
            [
             0.1,
             "#c51b7d"
            ],
            [
             0.2,
             "#de77ae"
            ],
            [
             0.3,
             "#f1b6da"
            ],
            [
             0.4,
             "#fde0ef"
            ],
            [
             0.5,
             "#f7f7f7"
            ],
            [
             0.6,
             "#e6f5d0"
            ],
            [
             0.7,
             "#b8e186"
            ],
            [
             0.8,
             "#7fbc41"
            ],
            [
             0.9,
             "#4d9221"
            ],
            [
             1,
             "#276419"
            ]
           ],
           "sequential": [
            [
             0,
             "#0d0887"
            ],
            [
             0.1111111111111111,
             "#46039f"
            ],
            [
             0.2222222222222222,
             "#7201a8"
            ],
            [
             0.3333333333333333,
             "#9c179e"
            ],
            [
             0.4444444444444444,
             "#bd3786"
            ],
            [
             0.5555555555555556,
             "#d8576b"
            ],
            [
             0.6666666666666666,
             "#ed7953"
            ],
            [
             0.7777777777777778,
             "#fb9f3a"
            ],
            [
             0.8888888888888888,
             "#fdca26"
            ],
            [
             1,
             "#f0f921"
            ]
           ],
           "sequentialminus": [
            [
             0,
             "#0d0887"
            ],
            [
             0.1111111111111111,
             "#46039f"
            ],
            [
             0.2222222222222222,
             "#7201a8"
            ],
            [
             0.3333333333333333,
             "#9c179e"
            ],
            [
             0.4444444444444444,
             "#bd3786"
            ],
            [
             0.5555555555555556,
             "#d8576b"
            ],
            [
             0.6666666666666666,
             "#ed7953"
            ],
            [
             0.7777777777777778,
             "#fb9f3a"
            ],
            [
             0.8888888888888888,
             "#fdca26"
            ],
            [
             1,
             "#f0f921"
            ]
           ]
          },
          "colorway": [
           "#636efa",
           "#EF553B",
           "#00cc96",
           "#ab63fa",
           "#FFA15A",
           "#19d3f3",
           "#FF6692",
           "#B6E880",
           "#FF97FF",
           "#FECB52"
          ],
          "font": {
           "color": "#2a3f5f"
          },
          "geo": {
           "bgcolor": "white",
           "lakecolor": "white",
           "landcolor": "#E5ECF6",
           "showlakes": true,
           "showland": true,
           "subunitcolor": "white"
          },
          "hoverlabel": {
           "align": "left"
          },
          "hovermode": "closest",
          "mapbox": {
           "style": "light"
          },
          "paper_bgcolor": "white",
          "plot_bgcolor": "#E5ECF6",
          "polar": {
           "angularaxis": {
            "gridcolor": "white",
            "linecolor": "white",
            "ticks": ""
           },
           "bgcolor": "#E5ECF6",
           "radialaxis": {
            "gridcolor": "white",
            "linecolor": "white",
            "ticks": ""
           }
          },
          "scene": {
           "xaxis": {
            "backgroundcolor": "#E5ECF6",
            "gridcolor": "white",
            "gridwidth": 2,
            "linecolor": "white",
            "showbackground": true,
            "ticks": "",
            "zerolinecolor": "white"
           },
           "yaxis": {
            "backgroundcolor": "#E5ECF6",
            "gridcolor": "white",
            "gridwidth": 2,
            "linecolor": "white",
            "showbackground": true,
            "ticks": "",
            "zerolinecolor": "white"
           },
           "zaxis": {
            "backgroundcolor": "#E5ECF6",
            "gridcolor": "white",
            "gridwidth": 2,
            "linecolor": "white",
            "showbackground": true,
            "ticks": "",
            "zerolinecolor": "white"
           }
          },
          "shapedefaults": {
           "line": {
            "color": "#2a3f5f"
           }
          },
          "ternary": {
           "aaxis": {
            "gridcolor": "white",
            "linecolor": "white",
            "ticks": ""
           },
           "baxis": {
            "gridcolor": "white",
            "linecolor": "white",
            "ticks": ""
           },
           "bgcolor": "#E5ECF6",
           "caxis": {
            "gridcolor": "white",
            "linecolor": "white",
            "ticks": ""
           }
          },
          "title": {
           "x": 0.05
          },
          "xaxis": {
           "automargin": true,
           "gridcolor": "white",
           "linecolor": "white",
           "ticks": "",
           "title": {
            "standoff": 15
           },
           "zerolinecolor": "white",
           "zerolinewidth": 2
          },
          "yaxis": {
           "automargin": true,
           "gridcolor": "white",
           "linecolor": "white",
           "ticks": "",
           "title": {
            "standoff": 15
           },
           "zerolinecolor": "white",
           "zerolinewidth": 2
          }
         }
        },
        "title": {
         "text": "number of images against each age"
        },
        "xaxis": {
         "anchor": "y",
         "domain": [
          0,
          1
         ],
         "title": {
          "text": "age"
         }
        },
        "yaxis": {
         "anchor": "x",
         "domain": [
          0,
          1
         ],
         "title": {
          "text": "# of images"
         }
        }
       }
      },
      "text/html": [
       "<div>                            <div id=\"ca45365c-f63b-487d-944f-74c6b9b11c1d\" class=\"plotly-graph-div\" style=\"height:525px; width:100%;\"></div>            <script type=\"text/javascript\">                require([\"plotly\"], function(Plotly) {                    window.PLOTLYENV=window.PLOTLYENV || {};                                    if (document.getElementById(\"ca45365c-f63b-487d-944f-74c6b9b11c1d\")) {                    Plotly.newPlot(                        \"ca45365c-f63b-487d-944f-74c6b9b11c1d\",                        [{\"alignmentgroup\": \"True\", \"hovertemplate\": \"x=%{x}<br>y=%{y}<extra></extra>\", \"legendgroup\": \"\", \"marker\": {\"color\": \"#636efa\"}, \"name\": \"\", \"offsetgroup\": \"\", \"orientation\": \"v\", \"showlegend\": false, \"textposition\": \"auto\", \"type\": \"bar\", \"x\": [\"13\", \"60\", \"73\", \"25\", \"26\", \"7\", \"1\", \"4\", \"30\", \"40\", \"11\", \"32\", \"48\", \"17\", \"47\", \"15\", \"75\", \"9\", \"22\", \"21\", \"16\", \"36\", \"19\", \"37\", \"28\", \"27\", \"68\", \"24\", \"35\", \"34\", \"85\", \"55\", \"8\", \"54\", \"23\", \"53\", \"3\", \"45\", \"29\", \"31\", \"90\", \"70\", \"58\", \"52\", \"62\", \"2\", \"82\", \"18\", \"46\", \"20\", \"38\", \"43\", \"49\", \"76\", \"64\", \"33\", \"41\", \"56\", \"5\", \"61\", \"65\", \"63\", \"10\", \"69\", \"14\", \"50\", \"57\", \"67\", \"59\", \"42\", \"44\", \"12\", \"51\", \"6\", \"39\", \"80\", \"89\", \"84\", \"66\", \"72\", \"74\", \"77\", \"92\", \"81\", \"86\", \"79\", \"78\", \"96\", \"88\", \"103\", \"100\", \"71\", \"87\", \"101\", \"83\", \"93\", \"99\", \"105\", \"95\", \"115\", \"110\", \"116\", \"91\", \"111\"], \"xaxis\": \"x\", \"y\": [81, 292, 62, 727, 2149, 140, 1227, 279, 709, 519, 63, 651, 153, 159, 172, 176, 150, 167, 381, 342, 245, 471, 96, 289, 901, 598, 100, 829, 865, 406, 153, 264, 267, 351, 416, 240, 297, 437, 564, 345, 83, 145, 272, 230, 126, 517, 38, 252, 152, 272, 319, 157, 146, 58, 50, 138, 130, 236, 207, 159, 258, 102, 152, 54, 161, 374, 97, 95, 82, 260, 99, 130, 137, 129, 266, 128, 35, 26, 78, 97, 30, 29, 12, 23, 36, 20, 69, 17, 34, 1, 11, 34, 11, 2, 17, 5, 9, 5, 9, 3, 4, 4, 2, 1], \"yaxis\": \"y\"}],                        {\"barmode\": \"relative\", \"legend\": {\"tracegroupgap\": 0}, \"margin\": {\"t\": 60}, \"template\": {\"data\": {\"bar\": [{\"error_x\": {\"color\": \"#2a3f5f\"}, \"error_y\": {\"color\": \"#2a3f5f\"}, \"marker\": {\"line\": {\"color\": \"#E5ECF6\", \"width\": 0.5}}, \"type\": \"bar\"}], \"barpolar\": [{\"marker\": {\"line\": {\"color\": \"#E5ECF6\", \"width\": 0.5}}, \"type\": \"barpolar\"}], \"carpet\": [{\"aaxis\": {\"endlinecolor\": \"#2a3f5f\", \"gridcolor\": \"white\", \"linecolor\": \"white\", \"minorgridcolor\": \"white\", \"startlinecolor\": \"#2a3f5f\"}, \"baxis\": {\"endlinecolor\": \"#2a3f5f\", \"gridcolor\": \"white\", \"linecolor\": \"white\", \"minorgridcolor\": \"white\", \"startlinecolor\": \"#2a3f5f\"}, \"type\": \"carpet\"}], \"choropleth\": [{\"colorbar\": {\"outlinewidth\": 0, \"ticks\": \"\"}, \"type\": \"choropleth\"}], \"contour\": [{\"colorbar\": {\"outlinewidth\": 0, \"ticks\": \"\"}, \"colorscale\": [[0.0, \"#0d0887\"], [0.1111111111111111, \"#46039f\"], [0.2222222222222222, \"#7201a8\"], [0.3333333333333333, \"#9c179e\"], [0.4444444444444444, \"#bd3786\"], [0.5555555555555556, \"#d8576b\"], [0.6666666666666666, \"#ed7953\"], [0.7777777777777778, \"#fb9f3a\"], [0.8888888888888888, \"#fdca26\"], [1.0, \"#f0f921\"]], \"type\": \"contour\"}], \"contourcarpet\": [{\"colorbar\": {\"outlinewidth\": 0, \"ticks\": \"\"}, \"type\": \"contourcarpet\"}], \"heatmap\": [{\"colorbar\": {\"outlinewidth\": 0, \"ticks\": \"\"}, \"colorscale\": [[0.0, \"#0d0887\"], [0.1111111111111111, \"#46039f\"], [0.2222222222222222, \"#7201a8\"], [0.3333333333333333, \"#9c179e\"], [0.4444444444444444, \"#bd3786\"], [0.5555555555555556, \"#d8576b\"], [0.6666666666666666, \"#ed7953\"], [0.7777777777777778, \"#fb9f3a\"], [0.8888888888888888, \"#fdca26\"], [1.0, \"#f0f921\"]], \"type\": \"heatmap\"}], \"heatmapgl\": [{\"colorbar\": {\"outlinewidth\": 0, \"ticks\": \"\"}, \"colorscale\": [[0.0, \"#0d0887\"], [0.1111111111111111, \"#46039f\"], [0.2222222222222222, \"#7201a8\"], [0.3333333333333333, \"#9c179e\"], [0.4444444444444444, \"#bd3786\"], [0.5555555555555556, \"#d8576b\"], [0.6666666666666666, \"#ed7953\"], [0.7777777777777778, \"#fb9f3a\"], [0.8888888888888888, \"#fdca26\"], [1.0, \"#f0f921\"]], \"type\": \"heatmapgl\"}], \"histogram\": [{\"marker\": {\"colorbar\": {\"outlinewidth\": 0, \"ticks\": \"\"}}, \"type\": \"histogram\"}], \"histogram2d\": [{\"colorbar\": {\"outlinewidth\": 0, \"ticks\": \"\"}, \"colorscale\": [[0.0, \"#0d0887\"], [0.1111111111111111, \"#46039f\"], [0.2222222222222222, \"#7201a8\"], [0.3333333333333333, \"#9c179e\"], [0.4444444444444444, \"#bd3786\"], [0.5555555555555556, \"#d8576b\"], [0.6666666666666666, \"#ed7953\"], [0.7777777777777778, \"#fb9f3a\"], [0.8888888888888888, \"#fdca26\"], [1.0, \"#f0f921\"]], \"type\": \"histogram2d\"}], \"histogram2dcontour\": [{\"colorbar\": {\"outlinewidth\": 0, \"ticks\": \"\"}, \"colorscale\": [[0.0, \"#0d0887\"], [0.1111111111111111, \"#46039f\"], [0.2222222222222222, \"#7201a8\"], [0.3333333333333333, \"#9c179e\"], [0.4444444444444444, \"#bd3786\"], [0.5555555555555556, \"#d8576b\"], [0.6666666666666666, \"#ed7953\"], [0.7777777777777778, \"#fb9f3a\"], [0.8888888888888888, \"#fdca26\"], [1.0, \"#f0f921\"]], \"type\": \"histogram2dcontour\"}], \"mesh3d\": [{\"colorbar\": {\"outlinewidth\": 0, \"ticks\": \"\"}, \"type\": \"mesh3d\"}], \"parcoords\": [{\"line\": {\"colorbar\": {\"outlinewidth\": 0, \"ticks\": \"\"}}, \"type\": \"parcoords\"}], \"pie\": [{\"automargin\": true, \"type\": \"pie\"}], \"scatter\": [{\"marker\": {\"colorbar\": {\"outlinewidth\": 0, \"ticks\": \"\"}}, \"type\": \"scatter\"}], \"scatter3d\": [{\"line\": {\"colorbar\": {\"outlinewidth\": 0, \"ticks\": \"\"}}, \"marker\": {\"colorbar\": {\"outlinewidth\": 0, \"ticks\": \"\"}}, \"type\": \"scatter3d\"}], \"scattercarpet\": [{\"marker\": {\"colorbar\": {\"outlinewidth\": 0, \"ticks\": \"\"}}, \"type\": \"scattercarpet\"}], \"scattergeo\": [{\"marker\": {\"colorbar\": {\"outlinewidth\": 0, \"ticks\": \"\"}}, \"type\": \"scattergeo\"}], \"scattergl\": [{\"marker\": {\"colorbar\": {\"outlinewidth\": 0, \"ticks\": \"\"}}, \"type\": \"scattergl\"}], \"scattermapbox\": [{\"marker\": {\"colorbar\": {\"outlinewidth\": 0, \"ticks\": \"\"}}, \"type\": \"scattermapbox\"}], \"scatterpolar\": [{\"marker\": {\"colorbar\": {\"outlinewidth\": 0, \"ticks\": \"\"}}, \"type\": \"scatterpolar\"}], \"scatterpolargl\": [{\"marker\": {\"colorbar\": {\"outlinewidth\": 0, \"ticks\": \"\"}}, \"type\": \"scatterpolargl\"}], \"scatterternary\": [{\"marker\": {\"colorbar\": {\"outlinewidth\": 0, \"ticks\": \"\"}}, \"type\": \"scatterternary\"}], \"surface\": [{\"colorbar\": {\"outlinewidth\": 0, \"ticks\": \"\"}, \"colorscale\": [[0.0, \"#0d0887\"], [0.1111111111111111, \"#46039f\"], [0.2222222222222222, \"#7201a8\"], [0.3333333333333333, \"#9c179e\"], [0.4444444444444444, \"#bd3786\"], [0.5555555555555556, \"#d8576b\"], [0.6666666666666666, \"#ed7953\"], [0.7777777777777778, \"#fb9f3a\"], [0.8888888888888888, \"#fdca26\"], [1.0, \"#f0f921\"]], \"type\": \"surface\"}], \"table\": [{\"cells\": {\"fill\": {\"color\": \"#EBF0F8\"}, \"line\": {\"color\": \"white\"}}, \"header\": {\"fill\": {\"color\": \"#C8D4E3\"}, \"line\": {\"color\": \"white\"}}, \"type\": \"table\"}]}, \"layout\": {\"annotationdefaults\": {\"arrowcolor\": \"#2a3f5f\", \"arrowhead\": 0, \"arrowwidth\": 1}, \"coloraxis\": {\"colorbar\": {\"outlinewidth\": 0, \"ticks\": \"\"}}, \"colorscale\": {\"diverging\": [[0, \"#8e0152\"], [0.1, \"#c51b7d\"], [0.2, \"#de77ae\"], [0.3, \"#f1b6da\"], [0.4, \"#fde0ef\"], [0.5, \"#f7f7f7\"], [0.6, \"#e6f5d0\"], [0.7, \"#b8e186\"], [0.8, \"#7fbc41\"], [0.9, \"#4d9221\"], [1, \"#276419\"]], \"sequential\": [[0.0, \"#0d0887\"], [0.1111111111111111, \"#46039f\"], [0.2222222222222222, \"#7201a8\"], [0.3333333333333333, \"#9c179e\"], [0.4444444444444444, \"#bd3786\"], [0.5555555555555556, \"#d8576b\"], [0.6666666666666666, \"#ed7953\"], [0.7777777777777778, \"#fb9f3a\"], [0.8888888888888888, \"#fdca26\"], [1.0, \"#f0f921\"]], \"sequentialminus\": [[0.0, \"#0d0887\"], [0.1111111111111111, \"#46039f\"], [0.2222222222222222, \"#7201a8\"], [0.3333333333333333, \"#9c179e\"], [0.4444444444444444, \"#bd3786\"], [0.5555555555555556, \"#d8576b\"], [0.6666666666666666, \"#ed7953\"], [0.7777777777777778, \"#fb9f3a\"], [0.8888888888888888, \"#fdca26\"], [1.0, \"#f0f921\"]]}, \"colorway\": [\"#636efa\", \"#EF553B\", \"#00cc96\", \"#ab63fa\", \"#FFA15A\", \"#19d3f3\", \"#FF6692\", \"#B6E880\", \"#FF97FF\", \"#FECB52\"], \"font\": {\"color\": \"#2a3f5f\"}, \"geo\": {\"bgcolor\": \"white\", \"lakecolor\": \"white\", \"landcolor\": \"#E5ECF6\", \"showlakes\": true, \"showland\": true, \"subunitcolor\": \"white\"}, \"hoverlabel\": {\"align\": \"left\"}, \"hovermode\": \"closest\", \"mapbox\": {\"style\": \"light\"}, \"paper_bgcolor\": \"white\", \"plot_bgcolor\": \"#E5ECF6\", \"polar\": {\"angularaxis\": {\"gridcolor\": \"white\", \"linecolor\": \"white\", \"ticks\": \"\"}, \"bgcolor\": \"#E5ECF6\", \"radialaxis\": {\"gridcolor\": \"white\", \"linecolor\": \"white\", \"ticks\": \"\"}}, \"scene\": {\"xaxis\": {\"backgroundcolor\": \"#E5ECF6\", \"gridcolor\": \"white\", \"gridwidth\": 2, \"linecolor\": \"white\", \"showbackground\": true, \"ticks\": \"\", \"zerolinecolor\": \"white\"}, \"yaxis\": {\"backgroundcolor\": \"#E5ECF6\", \"gridcolor\": \"white\", \"gridwidth\": 2, \"linecolor\": \"white\", \"showbackground\": true, \"ticks\": \"\", \"zerolinecolor\": \"white\"}, \"zaxis\": {\"backgroundcolor\": \"#E5ECF6\", \"gridcolor\": \"white\", \"gridwidth\": 2, \"linecolor\": \"white\", \"showbackground\": true, \"ticks\": \"\", \"zerolinecolor\": \"white\"}}, \"shapedefaults\": {\"line\": {\"color\": \"#2a3f5f\"}}, \"ternary\": {\"aaxis\": {\"gridcolor\": \"white\", \"linecolor\": \"white\", \"ticks\": \"\"}, \"baxis\": {\"gridcolor\": \"white\", \"linecolor\": \"white\", \"ticks\": \"\"}, \"bgcolor\": \"#E5ECF6\", \"caxis\": {\"gridcolor\": \"white\", \"linecolor\": \"white\", \"ticks\": \"\"}}, \"title\": {\"x\": 0.05}, \"xaxis\": {\"automargin\": true, \"gridcolor\": \"white\", \"linecolor\": \"white\", \"ticks\": \"\", \"title\": {\"standoff\": 15}, \"zerolinecolor\": \"white\", \"zerolinewidth\": 2}, \"yaxis\": {\"automargin\": true, \"gridcolor\": \"white\", \"linecolor\": \"white\", \"ticks\": \"\", \"title\": {\"standoff\": 15}, \"zerolinecolor\": \"white\", \"zerolinewidth\": 2}}}, \"title\": {\"text\": \"number of images against each age\"}, \"xaxis\": {\"anchor\": \"y\", \"domain\": [0.0, 1.0], \"title\": {\"text\": \"age\"}}, \"yaxis\": {\"anchor\": \"x\", \"domain\": [0.0, 1.0], \"title\": {\"text\": \"# of images\"}}},                        {\"responsive\": true}                    ).then(function(){\n",
       "                            \n",
       "var gd = document.getElementById('ca45365c-f63b-487d-944f-74c6b9b11c1d');\n",
       "var x = new MutationObserver(function (mutations, observer) {{\n",
       "        var display = window.getComputedStyle(gd).display;\n",
       "        if (!display || display === 'none') {{\n",
       "            console.log([gd, 'removed!']);\n",
       "            Plotly.purge(gd);\n",
       "            observer.disconnect();\n",
       "        }}\n",
       "}});\n",
       "\n",
       "// Listen for the removal of the full notebook cells\n",
       "var notebookContainer = gd.closest('#notebook-container');\n",
       "if (notebookContainer) {{\n",
       "    x.observe(notebookContainer, {childList: true});\n",
       "}}\n",
       "\n",
       "// Listen for the clearing of the current output cell\n",
       "var outputEl = gd.closest('.output');\n",
       "if (outputEl) {{\n",
       "    x.observe(outputEl, {childList: true});\n",
       "}}\n",
       "\n",
       "                        })                };                });            </script>        </div>"
      ]
     },
     "metadata": {},
     "output_type": "display_data"
    }
   ],
   "source": [
    "\"\"\"\n",
    "some visualization of our image data\n",
    "\"\"\"\n",
    "\n",
    "\n",
    "l_dict = Counter(model_prep.labels_str)\n",
    "fig = px.bar(x = list(l_dict.keys()), y = list(l_dict.values()))\n",
    "fig.update_layout(\n",
    "    title=\"number of images against each age\",\n",
    "    xaxis_title=\"age\",\n",
    "    yaxis_title=\"# of images\",\n",
    ")\n",
    "\n",
    "fig.show()"
   ]
  },
  {
   "cell_type": "code",
   "execution_count": 222,
   "metadata": {},
   "outputs": [],
   "source": [
    "class Model:\n",
    "    @staticmethod\n",
    "    def train_model(image_dims,n_class,model=None, **kwargs):\n",
    "        if model!=None:\n",
    "            \"\"\"\n",
    "            train model from check point\n",
    "            \"\"\"\n",
    "            \n",
    "            model.compile(loss='mse',\n",
    "                        optimizer=optimizers.Adam(lr=0.0007),\n",
    "                        metrics=[\"MAE\"])\n",
    "            model_output = model.fit_generator(\n",
    "                                kwargs[\"train_data\"],\n",
    "                                steps_per_epoch=kwargs[\"steps_per_epoch\"],\n",
    "                                epochs=kwargs[\"epochs\"],\n",
    "                                validation_data=kwargs[\"val_data\"],\n",
    "                                validation_steps=kwargs[\"validation_steps\"])\n",
    "\n",
    "            return (model, model_output)\n",
    "        \n",
    "\n",
    "        model = models.Sequential()\n",
    "        #model.add(conv_base)\n",
    "        model.add(layers.Conv2D(32, (3, 3), activation=\"relu\", input_shape=image_dims))\n",
    "        model.add(layers.MaxPooling2D((3, 3)))\n",
    "        model.add(layers.Conv2D(64, (3, 3), activation=\"relu\"))\n",
    "        model.add(layers.MaxPooling2D((3, 3)))\n",
    "        model.add(layers.Conv2D(128, (3, 3), activation=\"relu\"))\n",
    "        model.add(layers.MaxPooling2D((3, 3)))\n",
    "        model.add(layers.Conv2D(256, (3, 3), activation=\"relu\"))\n",
    "        model.add(layers.MaxPooling2D((2, 2)))\n",
    "\n",
    "        model.add(layers.Flatten())\n",
    "        model.add(layers.Dense(1,activation='linear')) ## regression mode\n",
    "\n",
    "\n",
    "        model.compile(loss='mse',\n",
    "                        optimizer=optimizers.Adam(lr=0.001),\n",
    "                        metrics=[\"MAE\"])\n",
    "\n",
    "        model_output = model.fit_generator(\n",
    "            kwargs[\"train_data\"],\n",
    "            steps_per_epoch=kwargs[\"steps_per_epoch\"],\n",
    "            epochs=kwargs[\"epochs\"],\n",
    "            validation_data=kwargs[\"val_data\"],\n",
    "            validation_steps=kwargs[\"validation_steps\"])\n",
    "\n",
    "        return (model,model_output)"
   ]
  },
  {
   "cell_type": "code",
   "execution_count": 223,
   "metadata": {
    "scrolled": true
   },
   "outputs": [
    {
     "name": "stdout",
     "output_type": "stream",
     "text": [
      "Epoch 1/100\n",
      "30/30 [==============================] - 8s 270ms/step - loss: 684.3149 - MAE: 20.6896 - val_loss: 479.7855 - val_MAE: 17.8313\n",
      "Epoch 2/100\n",
      "30/30 [==============================] - 8s 271ms/step - loss: 443.8461 - MAE: 16.1536 - val_loss: 366.5098 - val_MAE: 15.0454\n",
      "Epoch 3/100\n",
      "30/30 [==============================] - 8s 272ms/step - loss: 452.2240 - MAE: 16.5382 - val_loss: 506.8035 - val_MAE: 18.1861\n",
      "Epoch 4/100\n",
      "30/30 [==============================] - 8s 282ms/step - loss: 439.7158 - MAE: 16.0455 - val_loss: 376.9959 - val_MAE: 14.5672\n",
      "Epoch 5/100\n",
      "30/30 [==============================] - 9s 284ms/step - loss: 442.1583 - MAE: 16.2241 - val_loss: 532.6597 - val_MAE: 17.7727\n",
      "Epoch 6/100\n",
      "30/30 [==============================] - 8s 283ms/step - loss: 432.4706 - MAE: 15.7428 - val_loss: 438.9462 - val_MAE: 16.8861\n",
      "Epoch 7/100\n",
      "30/30 [==============================] - 8s 277ms/step - loss: 431.2881 - MAE: 16.0335 - val_loss: 465.7508 - val_MAE: 16.7738\n",
      "Epoch 8/100\n",
      "30/30 [==============================] - 8s 270ms/step - loss: 458.3829 - MAE: 16.2610 - val_loss: 470.4127 - val_MAE: 16.0561\n",
      "Epoch 9/100\n",
      "30/30 [==============================] - 8s 275ms/step - loss: 419.2749 - MAE: 16.0538 - val_loss: 439.7997 - val_MAE: 15.0926\n",
      "Epoch 10/100\n",
      "30/30 [==============================] - 8s 274ms/step - loss: 426.7851 - MAE: 15.8591 - val_loss: 403.1758 - val_MAE: 15.4085\n",
      "Epoch 11/100\n",
      "30/30 [==============================] - 8s 273ms/step - loss: 416.9593 - MAE: 15.4770 - val_loss: 438.3220 - val_MAE: 15.3200\n",
      "Epoch 12/100\n",
      "30/30 [==============================] - 8s 274ms/step - loss: 416.5083 - MAE: 15.7816 - val_loss: 626.4182 - val_MAE: 19.4343\n",
      "Epoch 13/100\n",
      "30/30 [==============================] - 8s 283ms/step - loss: 410.2227 - MAE: 15.7973 - val_loss: 411.6365 - val_MAE: 15.1047\n",
      "Epoch 14/100\n",
      "30/30 [==============================] - 8s 282ms/step - loss: 397.1833 - MAE: 15.5098 - val_loss: 505.9518 - val_MAE: 16.6148\n",
      "Epoch 15/100\n",
      "30/30 [==============================] - 8s 273ms/step - loss: 407.4083 - MAE: 15.5711 - val_loss: 433.6669 - val_MAE: 15.7998\n",
      "Epoch 16/100\n",
      "30/30 [==============================] - 8s 279ms/step - loss: 368.1235 - MAE: 14.7086 - val_loss: 477.6353 - val_MAE: 17.7959\n",
      "Epoch 17/100\n",
      "30/30 [==============================] - 8s 280ms/step - loss: 412.2966 - MAE: 15.9847 - val_loss: 388.5255 - val_MAE: 14.7587\n",
      "Epoch 18/100\n",
      "30/30 [==============================] - 8s 282ms/step - loss: 407.2207 - MAE: 15.2194 - val_loss: 390.5846 - val_MAE: 15.6309\n",
      "Epoch 19/100\n",
      "30/30 [==============================] - 8s 275ms/step - loss: 403.0697 - MAE: 15.7075 - val_loss: 491.0925 - val_MAE: 16.9484\n",
      "Epoch 20/100\n",
      "30/30 [==============================] - 8s 277ms/step - loss: 414.5006 - MAE: 15.8154 - val_loss: 382.5624 - val_MAE: 15.1289\n",
      "Epoch 21/100\n",
      "30/30 [==============================] - 8s 281ms/step - loss: 417.4040 - MAE: 15.7914 - val_loss: 559.1559 - val_MAE: 17.9330\n",
      "Epoch 22/100\n",
      "30/30 [==============================] - 9s 289ms/step - loss: 401.9321 - MAE: 15.5508 - val_loss: 359.4486 - val_MAE: 15.0952\n",
      "Epoch 23/100\n",
      "30/30 [==============================] - 8s 278ms/step - loss: 360.8165 - MAE: 14.5889 - val_loss: 315.9445 - val_MAE: 14.0341\n",
      "Epoch 24/100\n",
      "30/30 [==============================] - 8s 273ms/step - loss: 377.2540 - MAE: 14.8883 - val_loss: 460.3774 - val_MAE: 15.7333\n",
      "Epoch 25/100\n",
      "30/30 [==============================] - 8s 282ms/step - loss: 373.1749 - MAE: 14.7493 - val_loss: 335.9333 - val_MAE: 15.3870\n",
      "Epoch 26/100\n",
      "30/30 [==============================] - 8s 274ms/step - loss: 336.2761 - MAE: 14.0751 - val_loss: 324.3026 - val_MAE: 13.4632\n",
      "Epoch 27/100\n",
      "30/30 [==============================] - 8s 272ms/step - loss: 357.9467 - MAE: 14.7195 - val_loss: 291.0325 - val_MAE: 13.5014\n",
      "Epoch 28/100\n",
      "30/30 [==============================] - 8s 273ms/step - loss: 340.7263 - MAE: 14.3294 - val_loss: 298.3338 - val_MAE: 13.4658\n",
      "Epoch 29/100\n",
      "30/30 [==============================] - 8s 272ms/step - loss: 365.5321 - MAE: 14.3557 - val_loss: 390.3930 - val_MAE: 16.4125\n",
      "Epoch 30/100\n",
      "30/30 [==============================] - 8s 266ms/step - loss: 365.7139 - MAE: 15.0554 - val_loss: 308.2348 - val_MAE: 13.5849\n",
      "Epoch 31/100\n",
      "30/30 [==============================] - 8s 268ms/step - loss: 336.4886 - MAE: 14.1726 - val_loss: 386.4527 - val_MAE: 14.4516\n",
      "Epoch 32/100\n",
      "30/30 [==============================] - 8s 277ms/step - loss: 321.1049 - MAE: 13.7689 - val_loss: 274.0923 - val_MAE: 13.0497\n",
      "Epoch 33/100\n",
      "30/30 [==============================] - 8s 275ms/step - loss: 323.0067 - MAE: 13.6350 - val_loss: 381.2419 - val_MAE: 16.0514\n",
      "Epoch 34/100\n",
      "30/30 [==============================] - 8s 272ms/step - loss: 312.5312 - MAE: 13.4268 - val_loss: 340.8572 - val_MAE: 13.3005\n",
      "Epoch 35/100\n",
      "30/30 [==============================] - 8s 275ms/step - loss: 324.6632 - MAE: 13.5255 - val_loss: 320.2406 - val_MAE: 14.4626\n",
      "Epoch 36/100\n",
      "30/30 [==============================] - 8s 267ms/step - loss: 334.2259 - MAE: 13.9887 - val_loss: 286.7090 - val_MAE: 13.9351\n",
      "Epoch 37/100\n",
      "30/30 [==============================] - 8s 272ms/step - loss: 317.2559 - MAE: 13.5573 - val_loss: 332.1474 - val_MAE: 14.0972\n",
      "Epoch 38/100\n",
      "30/30 [==============================] - 8s 273ms/step - loss: 319.1294 - MAE: 13.6773 - val_loss: 320.6055 - val_MAE: 13.9333\n",
      "Epoch 39/100\n",
      "30/30 [==============================] - 8s 276ms/step - loss: 277.3130 - MAE: 12.6289 - val_loss: 259.4267 - val_MAE: 11.9268\n",
      "Epoch 40/100\n",
      "30/30 [==============================] - 8s 265ms/step - loss: 298.9858 - MAE: 12.9753 - val_loss: 352.9036 - val_MAE: 15.5542\n",
      "Epoch 41/100\n",
      "30/30 [==============================] - 8s 271ms/step - loss: 367.8260 - MAE: 15.0648 - val_loss: 320.5487 - val_MAE: 12.5882\n",
      "Epoch 42/100\n",
      "30/30 [==============================] - 8s 275ms/step - loss: 296.8302 - MAE: 13.0830 - val_loss: 336.3028 - val_MAE: 13.2803\n",
      "Epoch 43/100\n",
      "30/30 [==============================] - 8s 273ms/step - loss: 298.9137 - MAE: 12.8983 - val_loss: 331.2892 - val_MAE: 14.7352\n",
      "Epoch 44/100\n",
      "30/30 [==============================] - 8s 266ms/step - loss: 276.4888 - MAE: 12.6022 - val_loss: 298.6328 - val_MAE: 14.0135\n",
      "Epoch 45/100\n",
      "30/30 [==============================] - 8s 274ms/step - loss: 254.7545 - MAE: 12.1746 - val_loss: 305.0831 - val_MAE: 14.2930\n",
      "Epoch 46/100\n",
      "30/30 [==============================] - 8s 279ms/step - loss: 269.5013 - MAE: 12.7549 - val_loss: 368.2430 - val_MAE: 13.3402\n",
      "Epoch 47/100\n",
      "30/30 [==============================] - 8s 274ms/step - loss: 253.1678 - MAE: 12.0341 - val_loss: 233.4228 - val_MAE: 11.6469\n",
      "Epoch 48/100\n",
      "30/30 [==============================] - 8s 271ms/step - loss: 300.5309 - MAE: 13.3665 - val_loss: 244.6951 - val_MAE: 11.5647\n",
      "Epoch 49/100\n",
      "30/30 [==============================] - 8s 272ms/step - loss: 257.9746 - MAE: 12.3522 - val_loss: 291.6963 - val_MAE: 11.7152\n",
      "Epoch 50/100\n",
      "30/30 [==============================] - 8s 272ms/step - loss: 304.0287 - MAE: 13.2993 - val_loss: 431.0976 - val_MAE: 14.6188\n",
      "Epoch 51/100\n",
      "30/30 [==============================] - 8s 273ms/step - loss: 258.0344 - MAE: 12.3236 - val_loss: 285.8122 - val_MAE: 13.5453\n",
      "Epoch 52/100\n",
      "30/30 [==============================] - 8s 274ms/step - loss: 258.4460 - MAE: 12.4857 - val_loss: 254.4261 - val_MAE: 12.2468\n",
      "Epoch 53/100\n",
      "30/30 [==============================] - 8s 280ms/step - loss: 293.0367 - MAE: 13.3548 - val_loss: 307.3268 - val_MAE: 12.8479\n",
      "Epoch 54/100\n",
      "30/30 [==============================] - 8s 282ms/step - loss: 252.8896 - MAE: 12.2057 - val_loss: 252.7577 - val_MAE: 11.9118\n",
      "Epoch 55/100\n",
      "30/30 [==============================] - 9s 285ms/step - loss: 284.2401 - MAE: 12.5652 - val_loss: 188.9561 - val_MAE: 10.3840\n",
      "Epoch 56/100\n",
      "30/30 [==============================] - 8s 280ms/step - loss: 262.4973 - MAE: 12.1453 - val_loss: 288.2768 - val_MAE: 13.3990\n",
      "Epoch 57/100\n",
      "30/30 [==============================] - 8s 279ms/step - loss: 247.9514 - MAE: 11.8829 - val_loss: 241.7039 - val_MAE: 11.3952\n",
      "Epoch 58/100\n",
      "30/30 [==============================] - 9s 287ms/step - loss: 259.7636 - MAE: 12.5235 - val_loss: 259.7755 - val_MAE: 12.6507\n",
      "Epoch 59/100\n"
     ]
    },
    {
     "name": "stdout",
     "output_type": "stream",
     "text": [
      "30/30 [==============================] - 8s 276ms/step - loss: 247.8058 - MAE: 11.7753 - val_loss: 254.1042 - val_MAE: 12.8311\n",
      "Epoch 60/100\n",
      "30/30 [==============================] - 8s 278ms/step - loss: 259.6040 - MAE: 12.3402 - val_loss: 258.3065 - val_MAE: 11.9531\n",
      "Epoch 61/100\n",
      "30/30 [==============================] - 8s 276ms/step - loss: 220.9527 - MAE: 11.2687 - val_loss: 302.4932 - val_MAE: 12.7342\n",
      "Epoch 62/100\n",
      "30/30 [==============================] - 8s 283ms/step - loss: 268.3285 - MAE: 12.4102 - val_loss: 251.0111 - val_MAE: 12.2902\n",
      "Epoch 63/100\n",
      "30/30 [==============================] - 9s 288ms/step - loss: 244.0324 - MAE: 12.0104 - val_loss: 282.0891 - val_MAE: 12.4553\n",
      "Epoch 64/100\n",
      "30/30 [==============================] - 8s 271ms/step - loss: 243.9968 - MAE: 11.9610 - val_loss: 240.0552 - val_MAE: 12.2267\n",
      "Epoch 65/100\n",
      "30/30 [==============================] - 8s 274ms/step - loss: 272.8280 - MAE: 12.5220 - val_loss: 284.3343 - val_MAE: 12.5941\n",
      "Epoch 66/100\n",
      "30/30 [==============================] - 9s 285ms/step - loss: 235.9419 - MAE: 11.5652 - val_loss: 188.3211 - val_MAE: 11.1210\n",
      "Epoch 67/100\n",
      "30/30 [==============================] - 8s 276ms/step - loss: 246.3405 - MAE: 11.8311 - val_loss: 326.8719 - val_MAE: 13.9866\n",
      "Epoch 68/100\n",
      "30/30 [==============================] - 9s 285ms/step - loss: 247.1336 - MAE: 11.7964 - val_loss: 225.9496 - val_MAE: 11.5041\n",
      "Epoch 69/100\n",
      "30/30 [==============================] - 8s 282ms/step - loss: 250.4146 - MAE: 11.9231 - val_loss: 305.9945 - val_MAE: 12.9875\n",
      "Epoch 70/100\n",
      "30/30 [==============================] - 8s 278ms/step - loss: 217.6590 - MAE: 11.2017 - val_loss: 178.8153 - val_MAE: 10.3100\n",
      "Epoch 71/100\n",
      "30/30 [==============================] - 8s 278ms/step - loss: 212.2728 - MAE: 11.1414 - val_loss: 271.6809 - val_MAE: 11.7561\n",
      "Epoch 72/100\n",
      "30/30 [==============================] - 8s 282ms/step - loss: 219.7894 - MAE: 11.0352 - val_loss: 325.0604 - val_MAE: 12.3038\n",
      "Epoch 73/100\n",
      "30/30 [==============================] - 8s 278ms/step - loss: 216.4171 - MAE: 11.1827 - val_loss: 191.1598 - val_MAE: 10.9794\n",
      "Epoch 74/100\n",
      "30/30 [==============================] - 9s 285ms/step - loss: 227.0573 - MAE: 11.5649 - val_loss: 175.5854 - val_MAE: 10.2167\n",
      "Epoch 75/100\n",
      "30/30 [==============================] - 9s 289ms/step - loss: 230.0706 - MAE: 11.4036 - val_loss: 266.2285 - val_MAE: 12.0027\n",
      "Epoch 76/100\n",
      "30/30 [==============================] - 9s 286ms/step - loss: 232.1880 - MAE: 11.6310 - val_loss: 318.7108 - val_MAE: 12.3398\n",
      "Epoch 77/100\n",
      "30/30 [==============================] - 9s 284ms/step - loss: 232.7236 - MAE: 11.4826 - val_loss: 247.3255 - val_MAE: 11.4255\n",
      "Epoch 78/100\n",
      "30/30 [==============================] - 8s 277ms/step - loss: 240.9352 - MAE: 11.8230 - val_loss: 210.3475 - val_MAE: 11.7738\n",
      "Epoch 79/100\n",
      "30/30 [==============================] - 9s 295ms/step - loss: 250.0516 - MAE: 12.1209 - val_loss: 279.4669 - val_MAE: 11.7996\n",
      "Epoch 80/100\n",
      "30/30 [==============================] - 9s 287ms/step - loss: 236.1966 - MAE: 11.5007 - val_loss: 231.0026 - val_MAE: 10.8492\n",
      "Epoch 81/100\n",
      "30/30 [==============================] - 8s 277ms/step - loss: 235.5798 - MAE: 11.5223 - val_loss: 205.4704 - val_MAE: 11.2623\n",
      "Epoch 82/100\n",
      "30/30 [==============================] - 9s 284ms/step - loss: 232.7728 - MAE: 11.6497 - val_loss: 242.5632 - val_MAE: 10.9175\n",
      "Epoch 83/100\n",
      "30/30 [==============================] - 8s 274ms/step - loss: 227.6813 - MAE: 11.4016 - val_loss: 292.8793 - val_MAE: 12.7002\n",
      "Epoch 84/100\n",
      "30/30 [==============================] - 8s 281ms/step - loss: 233.5616 - MAE: 11.3822 - val_loss: 214.0755 - val_MAE: 11.6671\n",
      "Epoch 85/100\n",
      "30/30 [==============================] - 8s 277ms/step - loss: 215.3627 - MAE: 11.1666 - val_loss: 181.9836 - val_MAE: 10.9959\n",
      "Epoch 86/100\n",
      "30/30 [==============================] - 8s 278ms/step - loss: 226.1834 - MAE: 11.2800 - val_loss: 252.7555 - val_MAE: 12.2166\n",
      "Epoch 87/100\n",
      "30/30 [==============================] - 8s 274ms/step - loss: 193.6071 - MAE: 10.6854 - val_loss: 248.3755 - val_MAE: 12.0445\n",
      "Epoch 88/100\n",
      "30/30 [==============================] - 8s 273ms/step - loss: 204.6531 - MAE: 11.0118 - val_loss: 205.1362 - val_MAE: 10.8955\n",
      "Epoch 89/100\n",
      "30/30 [==============================] - 9s 289ms/step - loss: 245.9443 - MAE: 11.9680 - val_loss: 232.0822 - val_MAE: 11.9546\n",
      "Epoch 90/100\n",
      "30/30 [==============================] - 8s 282ms/step - loss: 253.3266 - MAE: 12.1333 - val_loss: 332.1946 - val_MAE: 12.1623\n",
      "Epoch 91/100\n",
      "30/30 [==============================] - 8s 279ms/step - loss: 241.2236 - MAE: 11.5984 - val_loss: 214.5025 - val_MAE: 11.7176\n",
      "Epoch 92/100\n",
      "30/30 [==============================] - 8s 273ms/step - loss: 226.4395 - MAE: 11.2469 - val_loss: 201.6999 - val_MAE: 10.1869\n",
      "Epoch 93/100\n",
      "30/30 [==============================] - 8s 277ms/step - loss: 197.5532 - MAE: 10.6558 - val_loss: 205.6058 - val_MAE: 10.3749\n",
      "Epoch 94/100\n",
      "30/30 [==============================] - 8s 271ms/step - loss: 208.8187 - MAE: 10.9951 - val_loss: 233.5421 - val_MAE: 11.3866\n",
      "Epoch 95/100\n",
      "30/30 [==============================] - 8s 274ms/step - loss: 259.6443 - MAE: 12.1591 - val_loss: 257.8572 - val_MAE: 11.1296\n",
      "Epoch 96/100\n",
      "30/30 [==============================] - 8s 274ms/step - loss: 221.0227 - MAE: 11.1260 - val_loss: 265.1497 - val_MAE: 11.3964\n",
      "Epoch 97/100\n",
      "30/30 [==============================] - 8s 272ms/step - loss: 215.5378 - MAE: 11.2663 - val_loss: 210.6027 - val_MAE: 11.4502\n",
      "Epoch 98/100\n",
      "30/30 [==============================] - 8s 272ms/step - loss: 190.3127 - MAE: 10.3430 - val_loss: 202.9123 - val_MAE: 10.3807\n",
      "Epoch 99/100\n",
      "30/30 [==============================] - 8s 278ms/step - loss: 214.3869 - MAE: 11.1618 - val_loss: 149.0059 - val_MAE: 9.5092\n",
      "Epoch 100/100\n",
      "30/30 [==============================] - 8s 275ms/step - loss: 191.1568 - MAE: 10.5772 - val_loss: 280.9016 - val_MAE: 12.3229\n"
     ]
    }
   ],
   "source": [
    "model = Model()\n",
    "(model_details, model_output) = model.train_model((150,150,3),\n",
    "                                                  n_class=None, \n",
    "                                                  train_data=train_gen,\n",
    "                                                  val_data=val_gen,\n",
    "                                                  steps_per_epoch=30,\n",
    "                                                  epochs=100,\n",
    "                                                  validation_steps=10)"
   ]
  },
  {
   "cell_type": "markdown",
   "metadata": {},
   "source": [
    "### you can train model much longer to reduce the mean absolute error, on my end I cound reduce it to 3\n",
    "### let's visualize our loss over time"
   ]
  },
  {
   "cell_type": "code",
   "execution_count": null,
   "metadata": {},
   "outputs": [],
   "source": []
  },
  {
   "cell_type": "code",
   "execution_count": 71,
   "metadata": {},
   "outputs": [
    {
     "name": "stdout",
     "output_type": "stream",
     "text": [
      "13731/13731 [==============================] - 64s 5ms/step\n"
     ]
    }
   ],
   "source": [
    "pred = model.predict(test_data,verbose=1)"
   ]
  },
  {
   "cell_type": "code",
   "execution_count": 246,
   "metadata": {},
   "outputs": [
    {
     "data": {
      "application/vnd.plotly.v1+json": {
       "config": {
        "linkText": "Export to plot.ly",
        "plotlyServerURL": "https://plot.ly",
        "showLink": false
       },
       "data": [
        {
         "line": {
          "shape": "spline",
          "smoothing": 1.3
         },
         "mode": "lines",
         "type": "scatter",
         "x": [
          0,
          1,
          2,
          3,
          4,
          5,
          6,
          7,
          8,
          9,
          10,
          11,
          12,
          13,
          14,
          15,
          16,
          17,
          18,
          19,
          20,
          21,
          22,
          23,
          24,
          25,
          26,
          27,
          28,
          29,
          30,
          31,
          32,
          33,
          34,
          35,
          36,
          37,
          38,
          39,
          40,
          41,
          42,
          43,
          44,
          45,
          46,
          47,
          48,
          49,
          50,
          51,
          52,
          53,
          54,
          55,
          56,
          57,
          58,
          59,
          60,
          61,
          62,
          63,
          64,
          65,
          66,
          67,
          68,
          69,
          70,
          71,
          72,
          73,
          74,
          75,
          76,
          77,
          78,
          79,
          80,
          81,
          82,
          83,
          84,
          85,
          86,
          87,
          88,
          89,
          90,
          91,
          92,
          93,
          94,
          95,
          96,
          97,
          98,
          99
         ],
         "y": [
          20.6895809173584,
          16.153610229492188,
          16.53821563720703,
          16.04549217224121,
          16.22405242919922,
          15.742793083190918,
          16.033540725708008,
          16.26102638244629,
          16.053844451904297,
          15.859063148498535,
          15.477030754089355,
          15.781558990478516,
          15.79731273651123,
          15.509844779968262,
          15.57114315032959,
          14.708589553833008,
          15.984692573547363,
          15.219381332397461,
          15.707457542419434,
          15.815357208251953,
          15.791431427001953,
          15.550796508789062,
          14.588926315307617,
          14.888291358947754,
          14.749326705932617,
          14.075063705444336,
          14.719524383544922,
          14.329416275024414,
          14.355650901794434,
          15.055427551269531,
          14.172639846801758,
          13.76889705657959,
          13.634984970092773,
          13.426824569702148,
          13.52554702758789,
          13.98865795135498,
          13.55728530883789,
          13.677289009094238,
          12.62891960144043,
          12.97528076171875,
          15.064759254455566,
          13.082965850830078,
          12.898309707641602,
          12.602232933044434,
          12.174642562866211,
          12.754864692687988,
          12.034133911132812,
          13.36648941040039,
          12.352157592773438,
          13.299270629882812,
          12.323564529418945,
          12.485652923583984,
          13.354838371276855,
          12.205734252929688,
          12.56524658203125,
          12.14527702331543,
          11.882885932922363,
          12.52350902557373,
          11.775330543518066,
          12.340224266052246,
          11.268725395202637,
          12.410199165344238,
          12.010381698608398,
          11.960992813110352,
          12.52199649810791,
          11.565164566040039,
          11.83110237121582,
          11.796378135681152,
          11.92306900024414,
          11.201696395874023,
          11.141397476196289,
          11.035218238830566,
          11.182689666748047,
          11.564919471740723,
          11.403646469116211,
          11.631020545959473,
          11.482560157775879,
          11.822980880737305,
          12.12088680267334,
          11.5006742477417,
          11.522270202636719,
          11.649673461914062,
          11.40164852142334,
          11.382152557373047,
          11.166635513305664,
          11.279998779296875,
          10.685446739196777,
          11.01179313659668,
          11.967987060546875,
          12.133295059204102,
          11.598387718200684,
          11.246932983398438,
          10.65581226348877,
          10.995099067687988,
          12.159071922302246,
          11.126049995422363,
          11.266265869140625,
          10.342992782592773,
          11.161757469177246,
          10.577163696289062
         ]
        },
        {
         "line": {
          "shape": "spline",
          "smoothing": 1.3
         },
         "mode": "lines",
         "type": "scatter",
         "x": [
          0,
          1,
          2,
          3,
          4,
          5,
          6,
          7,
          8,
          9,
          10,
          11,
          12,
          13,
          14,
          15,
          16,
          17,
          18,
          19,
          20,
          21,
          22,
          23,
          24,
          25,
          26,
          27,
          28,
          29,
          30,
          31,
          32,
          33,
          34,
          35,
          36,
          37,
          38,
          39,
          40,
          41,
          42,
          43,
          44,
          45,
          46,
          47,
          48,
          49,
          50,
          51,
          52,
          53,
          54,
          55,
          56,
          57,
          58,
          59,
          60,
          61,
          62,
          63,
          64,
          65,
          66,
          67,
          68,
          69,
          70,
          71,
          72,
          73,
          74,
          75,
          76,
          77,
          78,
          79,
          80,
          81,
          82,
          83,
          84,
          85,
          86,
          87,
          88,
          89,
          90,
          91,
          92,
          93,
          94,
          95,
          96,
          97,
          98,
          99
         ],
         "y": [
          17.831336975097656,
          15.045376777648926,
          18.18607521057129,
          14.567155838012695,
          17.77265167236328,
          16.886098861694336,
          16.77383041381836,
          16.056148529052734,
          15.092617988586426,
          15.408468246459961,
          15.319978713989258,
          19.43429946899414,
          15.104692459106445,
          16.61482048034668,
          15.799792289733887,
          17.7958984375,
          14.75873851776123,
          15.630903244018555,
          16.948436737060547,
          15.128885269165039,
          17.933029174804688,
          15.095189094543457,
          14.034098625183105,
          15.733285903930664,
          15.386970520019531,
          13.4631929397583,
          13.501358032226562,
          13.46575927734375,
          16.412532806396484,
          13.584894180297852,
          14.451647758483887,
          13.049697875976562,
          16.051374435424805,
          13.300546646118164,
          14.462575912475586,
          13.935091018676758,
          14.097213745117188,
          13.933276176452637,
          11.926828384399414,
          15.55418586730957,
          12.588211059570312,
          13.28028678894043,
          14.73523998260498,
          14.013544082641602,
          14.293011665344238,
          13.34016227722168,
          11.646857261657715,
          11.564672470092773,
          11.715204238891602,
          14.618817329406738,
          13.545300483703613,
          12.246755599975586,
          12.847879409790039,
          11.911813735961914,
          10.383995056152344,
          13.399023056030273,
          11.395198822021484,
          12.65068531036377,
          12.831140518188477,
          11.953123092651367,
          12.734204292297363,
          12.290181159973145,
          12.455328941345215,
          12.22667121887207,
          12.594083786010742,
          11.121027946472168,
          13.986551284790039,
          11.50411605834961,
          12.987457275390625,
          10.310026168823242,
          11.756097793579102,
          12.303848266601562,
          10.979397773742676,
          10.216689109802246,
          12.002679824829102,
          12.339799880981445,
          11.425527572631836,
          11.773834228515625,
          11.799614906311035,
          10.849180221557617,
          11.262264251708984,
          10.917463302612305,
          12.70019245147705,
          11.667141914367676,
          10.995922088623047,
          12.21658992767334,
          12.044524192810059,
          10.895453453063965,
          11.954573631286621,
          12.1622896194458,
          11.717592239379883,
          10.186861038208008,
          10.37486743927002,
          11.38663387298584,
          11.129587173461914,
          11.396435737609863,
          11.450189590454102,
          10.380671501159668,
          9.509195327758789,
          12.322897911071777
         ]
        }
       ],
       "layout": {
        "template": {
         "data": {
          "bar": [
           {
            "error_x": {
             "color": "#2a3f5f"
            },
            "error_y": {
             "color": "#2a3f5f"
            },
            "marker": {
             "line": {
              "color": "#E5ECF6",
              "width": 0.5
             }
            },
            "type": "bar"
           }
          ],
          "barpolar": [
           {
            "marker": {
             "line": {
              "color": "#E5ECF6",
              "width": 0.5
             }
            },
            "type": "barpolar"
           }
          ],
          "carpet": [
           {
            "aaxis": {
             "endlinecolor": "#2a3f5f",
             "gridcolor": "white",
             "linecolor": "white",
             "minorgridcolor": "white",
             "startlinecolor": "#2a3f5f"
            },
            "baxis": {
             "endlinecolor": "#2a3f5f",
             "gridcolor": "white",
             "linecolor": "white",
             "minorgridcolor": "white",
             "startlinecolor": "#2a3f5f"
            },
            "type": "carpet"
           }
          ],
          "choropleth": [
           {
            "colorbar": {
             "outlinewidth": 0,
             "ticks": ""
            },
            "type": "choropleth"
           }
          ],
          "contour": [
           {
            "colorbar": {
             "outlinewidth": 0,
             "ticks": ""
            },
            "colorscale": [
             [
              0,
              "#0d0887"
             ],
             [
              0.1111111111111111,
              "#46039f"
             ],
             [
              0.2222222222222222,
              "#7201a8"
             ],
             [
              0.3333333333333333,
              "#9c179e"
             ],
             [
              0.4444444444444444,
              "#bd3786"
             ],
             [
              0.5555555555555556,
              "#d8576b"
             ],
             [
              0.6666666666666666,
              "#ed7953"
             ],
             [
              0.7777777777777778,
              "#fb9f3a"
             ],
             [
              0.8888888888888888,
              "#fdca26"
             ],
             [
              1,
              "#f0f921"
             ]
            ],
            "type": "contour"
           }
          ],
          "contourcarpet": [
           {
            "colorbar": {
             "outlinewidth": 0,
             "ticks": ""
            },
            "type": "contourcarpet"
           }
          ],
          "heatmap": [
           {
            "colorbar": {
             "outlinewidth": 0,
             "ticks": ""
            },
            "colorscale": [
             [
              0,
              "#0d0887"
             ],
             [
              0.1111111111111111,
              "#46039f"
             ],
             [
              0.2222222222222222,
              "#7201a8"
             ],
             [
              0.3333333333333333,
              "#9c179e"
             ],
             [
              0.4444444444444444,
              "#bd3786"
             ],
             [
              0.5555555555555556,
              "#d8576b"
             ],
             [
              0.6666666666666666,
              "#ed7953"
             ],
             [
              0.7777777777777778,
              "#fb9f3a"
             ],
             [
              0.8888888888888888,
              "#fdca26"
             ],
             [
              1,
              "#f0f921"
             ]
            ],
            "type": "heatmap"
           }
          ],
          "heatmapgl": [
           {
            "colorbar": {
             "outlinewidth": 0,
             "ticks": ""
            },
            "colorscale": [
             [
              0,
              "#0d0887"
             ],
             [
              0.1111111111111111,
              "#46039f"
             ],
             [
              0.2222222222222222,
              "#7201a8"
             ],
             [
              0.3333333333333333,
              "#9c179e"
             ],
             [
              0.4444444444444444,
              "#bd3786"
             ],
             [
              0.5555555555555556,
              "#d8576b"
             ],
             [
              0.6666666666666666,
              "#ed7953"
             ],
             [
              0.7777777777777778,
              "#fb9f3a"
             ],
             [
              0.8888888888888888,
              "#fdca26"
             ],
             [
              1,
              "#f0f921"
             ]
            ],
            "type": "heatmapgl"
           }
          ],
          "histogram": [
           {
            "marker": {
             "colorbar": {
              "outlinewidth": 0,
              "ticks": ""
             }
            },
            "type": "histogram"
           }
          ],
          "histogram2d": [
           {
            "colorbar": {
             "outlinewidth": 0,
             "ticks": ""
            },
            "colorscale": [
             [
              0,
              "#0d0887"
             ],
             [
              0.1111111111111111,
              "#46039f"
             ],
             [
              0.2222222222222222,
              "#7201a8"
             ],
             [
              0.3333333333333333,
              "#9c179e"
             ],
             [
              0.4444444444444444,
              "#bd3786"
             ],
             [
              0.5555555555555556,
              "#d8576b"
             ],
             [
              0.6666666666666666,
              "#ed7953"
             ],
             [
              0.7777777777777778,
              "#fb9f3a"
             ],
             [
              0.8888888888888888,
              "#fdca26"
             ],
             [
              1,
              "#f0f921"
             ]
            ],
            "type": "histogram2d"
           }
          ],
          "histogram2dcontour": [
           {
            "colorbar": {
             "outlinewidth": 0,
             "ticks": ""
            },
            "colorscale": [
             [
              0,
              "#0d0887"
             ],
             [
              0.1111111111111111,
              "#46039f"
             ],
             [
              0.2222222222222222,
              "#7201a8"
             ],
             [
              0.3333333333333333,
              "#9c179e"
             ],
             [
              0.4444444444444444,
              "#bd3786"
             ],
             [
              0.5555555555555556,
              "#d8576b"
             ],
             [
              0.6666666666666666,
              "#ed7953"
             ],
             [
              0.7777777777777778,
              "#fb9f3a"
             ],
             [
              0.8888888888888888,
              "#fdca26"
             ],
             [
              1,
              "#f0f921"
             ]
            ],
            "type": "histogram2dcontour"
           }
          ],
          "mesh3d": [
           {
            "colorbar": {
             "outlinewidth": 0,
             "ticks": ""
            },
            "type": "mesh3d"
           }
          ],
          "parcoords": [
           {
            "line": {
             "colorbar": {
              "outlinewidth": 0,
              "ticks": ""
             }
            },
            "type": "parcoords"
           }
          ],
          "pie": [
           {
            "automargin": true,
            "type": "pie"
           }
          ],
          "scatter": [
           {
            "marker": {
             "colorbar": {
              "outlinewidth": 0,
              "ticks": ""
             }
            },
            "type": "scatter"
           }
          ],
          "scatter3d": [
           {
            "line": {
             "colorbar": {
              "outlinewidth": 0,
              "ticks": ""
             }
            },
            "marker": {
             "colorbar": {
              "outlinewidth": 0,
              "ticks": ""
             }
            },
            "type": "scatter3d"
           }
          ],
          "scattercarpet": [
           {
            "marker": {
             "colorbar": {
              "outlinewidth": 0,
              "ticks": ""
             }
            },
            "type": "scattercarpet"
           }
          ],
          "scattergeo": [
           {
            "marker": {
             "colorbar": {
              "outlinewidth": 0,
              "ticks": ""
             }
            },
            "type": "scattergeo"
           }
          ],
          "scattergl": [
           {
            "marker": {
             "colorbar": {
              "outlinewidth": 0,
              "ticks": ""
             }
            },
            "type": "scattergl"
           }
          ],
          "scattermapbox": [
           {
            "marker": {
             "colorbar": {
              "outlinewidth": 0,
              "ticks": ""
             }
            },
            "type": "scattermapbox"
           }
          ],
          "scatterpolar": [
           {
            "marker": {
             "colorbar": {
              "outlinewidth": 0,
              "ticks": ""
             }
            },
            "type": "scatterpolar"
           }
          ],
          "scatterpolargl": [
           {
            "marker": {
             "colorbar": {
              "outlinewidth": 0,
              "ticks": ""
             }
            },
            "type": "scatterpolargl"
           }
          ],
          "scatterternary": [
           {
            "marker": {
             "colorbar": {
              "outlinewidth": 0,
              "ticks": ""
             }
            },
            "type": "scatterternary"
           }
          ],
          "surface": [
           {
            "colorbar": {
             "outlinewidth": 0,
             "ticks": ""
            },
            "colorscale": [
             [
              0,
              "#0d0887"
             ],
             [
              0.1111111111111111,
              "#46039f"
             ],
             [
              0.2222222222222222,
              "#7201a8"
             ],
             [
              0.3333333333333333,
              "#9c179e"
             ],
             [
              0.4444444444444444,
              "#bd3786"
             ],
             [
              0.5555555555555556,
              "#d8576b"
             ],
             [
              0.6666666666666666,
              "#ed7953"
             ],
             [
              0.7777777777777778,
              "#fb9f3a"
             ],
             [
              0.8888888888888888,
              "#fdca26"
             ],
             [
              1,
              "#f0f921"
             ]
            ],
            "type": "surface"
           }
          ],
          "table": [
           {
            "cells": {
             "fill": {
              "color": "#EBF0F8"
             },
             "line": {
              "color": "white"
             }
            },
            "header": {
             "fill": {
              "color": "#C8D4E3"
             },
             "line": {
              "color": "white"
             }
            },
            "type": "table"
           }
          ]
         },
         "layout": {
          "annotationdefaults": {
           "arrowcolor": "#2a3f5f",
           "arrowhead": 0,
           "arrowwidth": 1
          },
          "coloraxis": {
           "colorbar": {
            "outlinewidth": 0,
            "ticks": ""
           }
          },
          "colorscale": {
           "diverging": [
            [
             0,
             "#8e0152"
            ],
            [
             0.1,
             "#c51b7d"
            ],
            [
             0.2,
             "#de77ae"
            ],
            [
             0.3,
             "#f1b6da"
            ],
            [
             0.4,
             "#fde0ef"
            ],
            [
             0.5,
             "#f7f7f7"
            ],
            [
             0.6,
             "#e6f5d0"
            ],
            [
             0.7,
             "#b8e186"
            ],
            [
             0.8,
             "#7fbc41"
            ],
            [
             0.9,
             "#4d9221"
            ],
            [
             1,
             "#276419"
            ]
           ],
           "sequential": [
            [
             0,
             "#0d0887"
            ],
            [
             0.1111111111111111,
             "#46039f"
            ],
            [
             0.2222222222222222,
             "#7201a8"
            ],
            [
             0.3333333333333333,
             "#9c179e"
            ],
            [
             0.4444444444444444,
             "#bd3786"
            ],
            [
             0.5555555555555556,
             "#d8576b"
            ],
            [
             0.6666666666666666,
             "#ed7953"
            ],
            [
             0.7777777777777778,
             "#fb9f3a"
            ],
            [
             0.8888888888888888,
             "#fdca26"
            ],
            [
             1,
             "#f0f921"
            ]
           ],
           "sequentialminus": [
            [
             0,
             "#0d0887"
            ],
            [
             0.1111111111111111,
             "#46039f"
            ],
            [
             0.2222222222222222,
             "#7201a8"
            ],
            [
             0.3333333333333333,
             "#9c179e"
            ],
            [
             0.4444444444444444,
             "#bd3786"
            ],
            [
             0.5555555555555556,
             "#d8576b"
            ],
            [
             0.6666666666666666,
             "#ed7953"
            ],
            [
             0.7777777777777778,
             "#fb9f3a"
            ],
            [
             0.8888888888888888,
             "#fdca26"
            ],
            [
             1,
             "#f0f921"
            ]
           ]
          },
          "colorway": [
           "#636efa",
           "#EF553B",
           "#00cc96",
           "#ab63fa",
           "#FFA15A",
           "#19d3f3",
           "#FF6692",
           "#B6E880",
           "#FF97FF",
           "#FECB52"
          ],
          "font": {
           "color": "#2a3f5f"
          },
          "geo": {
           "bgcolor": "white",
           "lakecolor": "white",
           "landcolor": "#E5ECF6",
           "showlakes": true,
           "showland": true,
           "subunitcolor": "white"
          },
          "hoverlabel": {
           "align": "left"
          },
          "hovermode": "closest",
          "mapbox": {
           "style": "light"
          },
          "paper_bgcolor": "white",
          "plot_bgcolor": "#E5ECF6",
          "polar": {
           "angularaxis": {
            "gridcolor": "white",
            "linecolor": "white",
            "ticks": ""
           },
           "bgcolor": "#E5ECF6",
           "radialaxis": {
            "gridcolor": "white",
            "linecolor": "white",
            "ticks": ""
           }
          },
          "scene": {
           "xaxis": {
            "backgroundcolor": "#E5ECF6",
            "gridcolor": "white",
            "gridwidth": 2,
            "linecolor": "white",
            "showbackground": true,
            "ticks": "",
            "zerolinecolor": "white"
           },
           "yaxis": {
            "backgroundcolor": "#E5ECF6",
            "gridcolor": "white",
            "gridwidth": 2,
            "linecolor": "white",
            "showbackground": true,
            "ticks": "",
            "zerolinecolor": "white"
           },
           "zaxis": {
            "backgroundcolor": "#E5ECF6",
            "gridcolor": "white",
            "gridwidth": 2,
            "linecolor": "white",
            "showbackground": true,
            "ticks": "",
            "zerolinecolor": "white"
           }
          },
          "shapedefaults": {
           "line": {
            "color": "#2a3f5f"
           }
          },
          "ternary": {
           "aaxis": {
            "gridcolor": "white",
            "linecolor": "white",
            "ticks": ""
           },
           "baxis": {
            "gridcolor": "white",
            "linecolor": "white",
            "ticks": ""
           },
           "bgcolor": "#E5ECF6",
           "caxis": {
            "gridcolor": "white",
            "linecolor": "white",
            "ticks": ""
           }
          },
          "title": {
           "x": 0.05
          },
          "xaxis": {
           "automargin": true,
           "gridcolor": "white",
           "linecolor": "white",
           "ticks": "",
           "title": {
            "standoff": 15
           },
           "zerolinecolor": "white",
           "zerolinewidth": 2
          },
          "yaxis": {
           "automargin": true,
           "gridcolor": "white",
           "linecolor": "white",
           "ticks": "",
           "title": {
            "standoff": 15
           },
           "zerolinecolor": "white",
           "zerolinewidth": 2
          }
         }
        }
       }
      },
      "text/html": [
       "<div>                            <div id=\"eb5ebc21-e769-40ab-add4-0df9b59bffc1\" class=\"plotly-graph-div\" style=\"height:525px; width:100%;\"></div>            <script type=\"text/javascript\">                require([\"plotly\"], function(Plotly) {                    window.PLOTLYENV=window.PLOTLYENV || {};                                    if (document.getElementById(\"eb5ebc21-e769-40ab-add4-0df9b59bffc1\")) {                    Plotly.newPlot(                        \"eb5ebc21-e769-40ab-add4-0df9b59bffc1\",                        [{\"line\": {\"shape\": \"spline\", \"smoothing\": 1.3}, \"mode\": \"lines\", \"type\": \"scatter\", \"x\": [0, 1, 2, 3, 4, 5, 6, 7, 8, 9, 10, 11, 12, 13, 14, 15, 16, 17, 18, 19, 20, 21, 22, 23, 24, 25, 26, 27, 28, 29, 30, 31, 32, 33, 34, 35, 36, 37, 38, 39, 40, 41, 42, 43, 44, 45, 46, 47, 48, 49, 50, 51, 52, 53, 54, 55, 56, 57, 58, 59, 60, 61, 62, 63, 64, 65, 66, 67, 68, 69, 70, 71, 72, 73, 74, 75, 76, 77, 78, 79, 80, 81, 82, 83, 84, 85, 86, 87, 88, 89, 90, 91, 92, 93, 94, 95, 96, 97, 98, 99], \"y\": [20.6895809173584, 16.153610229492188, 16.53821563720703, 16.04549217224121, 16.22405242919922, 15.742793083190918, 16.033540725708008, 16.26102638244629, 16.053844451904297, 15.859063148498535, 15.477030754089355, 15.781558990478516, 15.79731273651123, 15.509844779968262, 15.57114315032959, 14.708589553833008, 15.984692573547363, 15.219381332397461, 15.707457542419434, 15.815357208251953, 15.791431427001953, 15.550796508789062, 14.588926315307617, 14.888291358947754, 14.749326705932617, 14.075063705444336, 14.719524383544922, 14.329416275024414, 14.355650901794434, 15.055427551269531, 14.172639846801758, 13.76889705657959, 13.634984970092773, 13.426824569702148, 13.52554702758789, 13.98865795135498, 13.55728530883789, 13.677289009094238, 12.62891960144043, 12.97528076171875, 15.064759254455566, 13.082965850830078, 12.898309707641602, 12.602232933044434, 12.174642562866211, 12.754864692687988, 12.034133911132812, 13.36648941040039, 12.352157592773438, 13.299270629882812, 12.323564529418945, 12.485652923583984, 13.354838371276855, 12.205734252929688, 12.56524658203125, 12.14527702331543, 11.882885932922363, 12.52350902557373, 11.775330543518066, 12.340224266052246, 11.268725395202637, 12.410199165344238, 12.010381698608398, 11.960992813110352, 12.52199649810791, 11.565164566040039, 11.83110237121582, 11.796378135681152, 11.92306900024414, 11.201696395874023, 11.141397476196289, 11.035218238830566, 11.182689666748047, 11.564919471740723, 11.403646469116211, 11.631020545959473, 11.482560157775879, 11.822980880737305, 12.12088680267334, 11.5006742477417, 11.522270202636719, 11.649673461914062, 11.40164852142334, 11.382152557373047, 11.166635513305664, 11.279998779296875, 10.685446739196777, 11.01179313659668, 11.967987060546875, 12.133295059204102, 11.598387718200684, 11.246932983398438, 10.65581226348877, 10.995099067687988, 12.159071922302246, 11.126049995422363, 11.266265869140625, 10.342992782592773, 11.161757469177246, 10.577163696289062]}, {\"line\": {\"shape\": \"spline\", \"smoothing\": 1.3}, \"mode\": \"lines\", \"type\": \"scatter\", \"x\": [0, 1, 2, 3, 4, 5, 6, 7, 8, 9, 10, 11, 12, 13, 14, 15, 16, 17, 18, 19, 20, 21, 22, 23, 24, 25, 26, 27, 28, 29, 30, 31, 32, 33, 34, 35, 36, 37, 38, 39, 40, 41, 42, 43, 44, 45, 46, 47, 48, 49, 50, 51, 52, 53, 54, 55, 56, 57, 58, 59, 60, 61, 62, 63, 64, 65, 66, 67, 68, 69, 70, 71, 72, 73, 74, 75, 76, 77, 78, 79, 80, 81, 82, 83, 84, 85, 86, 87, 88, 89, 90, 91, 92, 93, 94, 95, 96, 97, 98, 99], \"y\": [17.831336975097656, 15.045376777648926, 18.18607521057129, 14.567155838012695, 17.77265167236328, 16.886098861694336, 16.77383041381836, 16.056148529052734, 15.092617988586426, 15.408468246459961, 15.319978713989258, 19.43429946899414, 15.104692459106445, 16.61482048034668, 15.799792289733887, 17.7958984375, 14.75873851776123, 15.630903244018555, 16.948436737060547, 15.128885269165039, 17.933029174804688, 15.095189094543457, 14.034098625183105, 15.733285903930664, 15.386970520019531, 13.4631929397583, 13.501358032226562, 13.46575927734375, 16.412532806396484, 13.584894180297852, 14.451647758483887, 13.049697875976562, 16.051374435424805, 13.300546646118164, 14.462575912475586, 13.935091018676758, 14.097213745117188, 13.933276176452637, 11.926828384399414, 15.55418586730957, 12.588211059570312, 13.28028678894043, 14.73523998260498, 14.013544082641602, 14.293011665344238, 13.34016227722168, 11.646857261657715, 11.564672470092773, 11.715204238891602, 14.618817329406738, 13.545300483703613, 12.246755599975586, 12.847879409790039, 11.911813735961914, 10.383995056152344, 13.399023056030273, 11.395198822021484, 12.65068531036377, 12.831140518188477, 11.953123092651367, 12.734204292297363, 12.290181159973145, 12.455328941345215, 12.22667121887207, 12.594083786010742, 11.121027946472168, 13.986551284790039, 11.50411605834961, 12.987457275390625, 10.310026168823242, 11.756097793579102, 12.303848266601562, 10.979397773742676, 10.216689109802246, 12.002679824829102, 12.339799880981445, 11.425527572631836, 11.773834228515625, 11.799614906311035, 10.849180221557617, 11.262264251708984, 10.917463302612305, 12.70019245147705, 11.667141914367676, 10.995922088623047, 12.21658992767334, 12.044524192810059, 10.895453453063965, 11.954573631286621, 12.1622896194458, 11.717592239379883, 10.186861038208008, 10.37486743927002, 11.38663387298584, 11.129587173461914, 11.396435737609863, 11.450189590454102, 10.380671501159668, 9.509195327758789, 12.322897911071777]}],                        {\"template\": {\"data\": {\"bar\": [{\"error_x\": {\"color\": \"#2a3f5f\"}, \"error_y\": {\"color\": \"#2a3f5f\"}, \"marker\": {\"line\": {\"color\": \"#E5ECF6\", \"width\": 0.5}}, \"type\": \"bar\"}], \"barpolar\": [{\"marker\": {\"line\": {\"color\": \"#E5ECF6\", \"width\": 0.5}}, \"type\": \"barpolar\"}], \"carpet\": [{\"aaxis\": {\"endlinecolor\": \"#2a3f5f\", \"gridcolor\": \"white\", \"linecolor\": \"white\", \"minorgridcolor\": \"white\", \"startlinecolor\": \"#2a3f5f\"}, \"baxis\": {\"endlinecolor\": \"#2a3f5f\", \"gridcolor\": \"white\", \"linecolor\": \"white\", \"minorgridcolor\": \"white\", \"startlinecolor\": \"#2a3f5f\"}, \"type\": \"carpet\"}], \"choropleth\": [{\"colorbar\": {\"outlinewidth\": 0, \"ticks\": \"\"}, \"type\": \"choropleth\"}], \"contour\": [{\"colorbar\": {\"outlinewidth\": 0, \"ticks\": \"\"}, \"colorscale\": [[0.0, \"#0d0887\"], [0.1111111111111111, \"#46039f\"], [0.2222222222222222, \"#7201a8\"], [0.3333333333333333, \"#9c179e\"], [0.4444444444444444, \"#bd3786\"], [0.5555555555555556, \"#d8576b\"], [0.6666666666666666, \"#ed7953\"], [0.7777777777777778, \"#fb9f3a\"], [0.8888888888888888, \"#fdca26\"], [1.0, \"#f0f921\"]], \"type\": \"contour\"}], \"contourcarpet\": [{\"colorbar\": {\"outlinewidth\": 0, \"ticks\": \"\"}, \"type\": \"contourcarpet\"}], \"heatmap\": [{\"colorbar\": {\"outlinewidth\": 0, \"ticks\": \"\"}, \"colorscale\": [[0.0, \"#0d0887\"], [0.1111111111111111, \"#46039f\"], [0.2222222222222222, \"#7201a8\"], [0.3333333333333333, \"#9c179e\"], [0.4444444444444444, \"#bd3786\"], [0.5555555555555556, \"#d8576b\"], [0.6666666666666666, \"#ed7953\"], [0.7777777777777778, \"#fb9f3a\"], [0.8888888888888888, \"#fdca26\"], [1.0, \"#f0f921\"]], \"type\": \"heatmap\"}], \"heatmapgl\": [{\"colorbar\": {\"outlinewidth\": 0, \"ticks\": \"\"}, \"colorscale\": [[0.0, \"#0d0887\"], [0.1111111111111111, \"#46039f\"], [0.2222222222222222, \"#7201a8\"], [0.3333333333333333, \"#9c179e\"], [0.4444444444444444, \"#bd3786\"], [0.5555555555555556, \"#d8576b\"], [0.6666666666666666, \"#ed7953\"], [0.7777777777777778, \"#fb9f3a\"], [0.8888888888888888, \"#fdca26\"], [1.0, \"#f0f921\"]], \"type\": \"heatmapgl\"}], \"histogram\": [{\"marker\": {\"colorbar\": {\"outlinewidth\": 0, \"ticks\": \"\"}}, \"type\": \"histogram\"}], \"histogram2d\": [{\"colorbar\": {\"outlinewidth\": 0, \"ticks\": \"\"}, \"colorscale\": [[0.0, \"#0d0887\"], [0.1111111111111111, \"#46039f\"], [0.2222222222222222, \"#7201a8\"], [0.3333333333333333, \"#9c179e\"], [0.4444444444444444, \"#bd3786\"], [0.5555555555555556, \"#d8576b\"], [0.6666666666666666, \"#ed7953\"], [0.7777777777777778, \"#fb9f3a\"], [0.8888888888888888, \"#fdca26\"], [1.0, \"#f0f921\"]], \"type\": \"histogram2d\"}], \"histogram2dcontour\": [{\"colorbar\": {\"outlinewidth\": 0, \"ticks\": \"\"}, \"colorscale\": [[0.0, \"#0d0887\"], [0.1111111111111111, \"#46039f\"], [0.2222222222222222, \"#7201a8\"], [0.3333333333333333, \"#9c179e\"], [0.4444444444444444, \"#bd3786\"], [0.5555555555555556, \"#d8576b\"], [0.6666666666666666, \"#ed7953\"], [0.7777777777777778, \"#fb9f3a\"], [0.8888888888888888, \"#fdca26\"], [1.0, \"#f0f921\"]], \"type\": \"histogram2dcontour\"}], \"mesh3d\": [{\"colorbar\": {\"outlinewidth\": 0, \"ticks\": \"\"}, \"type\": \"mesh3d\"}], \"parcoords\": [{\"line\": {\"colorbar\": {\"outlinewidth\": 0, \"ticks\": \"\"}}, \"type\": \"parcoords\"}], \"pie\": [{\"automargin\": true, \"type\": \"pie\"}], \"scatter\": [{\"marker\": {\"colorbar\": {\"outlinewidth\": 0, \"ticks\": \"\"}}, \"type\": \"scatter\"}], \"scatter3d\": [{\"line\": {\"colorbar\": {\"outlinewidth\": 0, \"ticks\": \"\"}}, \"marker\": {\"colorbar\": {\"outlinewidth\": 0, \"ticks\": \"\"}}, \"type\": \"scatter3d\"}], \"scattercarpet\": [{\"marker\": {\"colorbar\": {\"outlinewidth\": 0, \"ticks\": \"\"}}, \"type\": \"scattercarpet\"}], \"scattergeo\": [{\"marker\": {\"colorbar\": {\"outlinewidth\": 0, \"ticks\": \"\"}}, \"type\": \"scattergeo\"}], \"scattergl\": [{\"marker\": {\"colorbar\": {\"outlinewidth\": 0, \"ticks\": \"\"}}, \"type\": \"scattergl\"}], \"scattermapbox\": [{\"marker\": {\"colorbar\": {\"outlinewidth\": 0, \"ticks\": \"\"}}, \"type\": \"scattermapbox\"}], \"scatterpolar\": [{\"marker\": {\"colorbar\": {\"outlinewidth\": 0, \"ticks\": \"\"}}, \"type\": \"scatterpolar\"}], \"scatterpolargl\": [{\"marker\": {\"colorbar\": {\"outlinewidth\": 0, \"ticks\": \"\"}}, \"type\": \"scatterpolargl\"}], \"scatterternary\": [{\"marker\": {\"colorbar\": {\"outlinewidth\": 0, \"ticks\": \"\"}}, \"type\": \"scatterternary\"}], \"surface\": [{\"colorbar\": {\"outlinewidth\": 0, \"ticks\": \"\"}, \"colorscale\": [[0.0, \"#0d0887\"], [0.1111111111111111, \"#46039f\"], [0.2222222222222222, \"#7201a8\"], [0.3333333333333333, \"#9c179e\"], [0.4444444444444444, \"#bd3786\"], [0.5555555555555556, \"#d8576b\"], [0.6666666666666666, \"#ed7953\"], [0.7777777777777778, \"#fb9f3a\"], [0.8888888888888888, \"#fdca26\"], [1.0, \"#f0f921\"]], \"type\": \"surface\"}], \"table\": [{\"cells\": {\"fill\": {\"color\": \"#EBF0F8\"}, \"line\": {\"color\": \"white\"}}, \"header\": {\"fill\": {\"color\": \"#C8D4E3\"}, \"line\": {\"color\": \"white\"}}, \"type\": \"table\"}]}, \"layout\": {\"annotationdefaults\": {\"arrowcolor\": \"#2a3f5f\", \"arrowhead\": 0, \"arrowwidth\": 1}, \"coloraxis\": {\"colorbar\": {\"outlinewidth\": 0, \"ticks\": \"\"}}, \"colorscale\": {\"diverging\": [[0, \"#8e0152\"], [0.1, \"#c51b7d\"], [0.2, \"#de77ae\"], [0.3, \"#f1b6da\"], [0.4, \"#fde0ef\"], [0.5, \"#f7f7f7\"], [0.6, \"#e6f5d0\"], [0.7, \"#b8e186\"], [0.8, \"#7fbc41\"], [0.9, \"#4d9221\"], [1, \"#276419\"]], \"sequential\": [[0.0, \"#0d0887\"], [0.1111111111111111, \"#46039f\"], [0.2222222222222222, \"#7201a8\"], [0.3333333333333333, \"#9c179e\"], [0.4444444444444444, \"#bd3786\"], [0.5555555555555556, \"#d8576b\"], [0.6666666666666666, \"#ed7953\"], [0.7777777777777778, \"#fb9f3a\"], [0.8888888888888888, \"#fdca26\"], [1.0, \"#f0f921\"]], \"sequentialminus\": [[0.0, \"#0d0887\"], [0.1111111111111111, \"#46039f\"], [0.2222222222222222, \"#7201a8\"], [0.3333333333333333, \"#9c179e\"], [0.4444444444444444, \"#bd3786\"], [0.5555555555555556, \"#d8576b\"], [0.6666666666666666, \"#ed7953\"], [0.7777777777777778, \"#fb9f3a\"], [0.8888888888888888, \"#fdca26\"], [1.0, \"#f0f921\"]]}, \"colorway\": [\"#636efa\", \"#EF553B\", \"#00cc96\", \"#ab63fa\", \"#FFA15A\", \"#19d3f3\", \"#FF6692\", \"#B6E880\", \"#FF97FF\", \"#FECB52\"], \"font\": {\"color\": \"#2a3f5f\"}, \"geo\": {\"bgcolor\": \"white\", \"lakecolor\": \"white\", \"landcolor\": \"#E5ECF6\", \"showlakes\": true, \"showland\": true, \"subunitcolor\": \"white\"}, \"hoverlabel\": {\"align\": \"left\"}, \"hovermode\": \"closest\", \"mapbox\": {\"style\": \"light\"}, \"paper_bgcolor\": \"white\", \"plot_bgcolor\": \"#E5ECF6\", \"polar\": {\"angularaxis\": {\"gridcolor\": \"white\", \"linecolor\": \"white\", \"ticks\": \"\"}, \"bgcolor\": \"#E5ECF6\", \"radialaxis\": {\"gridcolor\": \"white\", \"linecolor\": \"white\", \"ticks\": \"\"}}, \"scene\": {\"xaxis\": {\"backgroundcolor\": \"#E5ECF6\", \"gridcolor\": \"white\", \"gridwidth\": 2, \"linecolor\": \"white\", \"showbackground\": true, \"ticks\": \"\", \"zerolinecolor\": \"white\"}, \"yaxis\": {\"backgroundcolor\": \"#E5ECF6\", \"gridcolor\": \"white\", \"gridwidth\": 2, \"linecolor\": \"white\", \"showbackground\": true, \"ticks\": \"\", \"zerolinecolor\": \"white\"}, \"zaxis\": {\"backgroundcolor\": \"#E5ECF6\", \"gridcolor\": \"white\", \"gridwidth\": 2, \"linecolor\": \"white\", \"showbackground\": true, \"ticks\": \"\", \"zerolinecolor\": \"white\"}}, \"shapedefaults\": {\"line\": {\"color\": \"#2a3f5f\"}}, \"ternary\": {\"aaxis\": {\"gridcolor\": \"white\", \"linecolor\": \"white\", \"ticks\": \"\"}, \"baxis\": {\"gridcolor\": \"white\", \"linecolor\": \"white\", \"ticks\": \"\"}, \"bgcolor\": \"#E5ECF6\", \"caxis\": {\"gridcolor\": \"white\", \"linecolor\": \"white\", \"ticks\": \"\"}}, \"title\": {\"x\": 0.05}, \"xaxis\": {\"automargin\": true, \"gridcolor\": \"white\", \"linecolor\": \"white\", \"ticks\": \"\", \"title\": {\"standoff\": 15}, \"zerolinecolor\": \"white\", \"zerolinewidth\": 2}, \"yaxis\": {\"automargin\": true, \"gridcolor\": \"white\", \"linecolor\": \"white\", \"ticks\": \"\", \"title\": {\"standoff\": 15}, \"zerolinecolor\": \"white\", \"zerolinewidth\": 2}}}},                        {\"responsive\": true}                    ).then(function(){\n",
       "                            \n",
       "var gd = document.getElementById('eb5ebc21-e769-40ab-add4-0df9b59bffc1');\n",
       "var x = new MutationObserver(function (mutations, observer) {{\n",
       "        var display = window.getComputedStyle(gd).display;\n",
       "        if (!display || display === 'none') {{\n",
       "            console.log([gd, 'removed!']);\n",
       "            Plotly.purge(gd);\n",
       "            observer.disconnect();\n",
       "        }}\n",
       "}});\n",
       "\n",
       "// Listen for the removal of the full notebook cells\n",
       "var notebookContainer = gd.closest('#notebook-container');\n",
       "if (notebookContainer) {{\n",
       "    x.observe(notebookContainer, {childList: true});\n",
       "}}\n",
       "\n",
       "// Listen for the clearing of the current output cell\n",
       "var outputEl = gd.closest('.output');\n",
       "if (outputEl) {{\n",
       "    x.observe(outputEl, {childList: true});\n",
       "}}\n",
       "\n",
       "                        })                };                });            </script>        </div>"
      ]
     },
     "metadata": {},
     "output_type": "display_data"
    },
    {
     "data": {
      "application/vnd.plotly.v1+json": {
       "config": {
        "linkText": "Export to plot.ly",
        "plotlyServerURL": "https://plot.ly",
        "showLink": false
       },
       "data": [
        {
         "line": {
          "shape": "spline",
          "smoothing": 1.3
         },
         "mode": "lines",
         "type": "scatter",
         "x": [
          0,
          1,
          2,
          3,
          4,
          5,
          6,
          7,
          8,
          9,
          10,
          11,
          12,
          13,
          14,
          15,
          16,
          17,
          18,
          19,
          20,
          21,
          22,
          23,
          24,
          25,
          26,
          27,
          28,
          29,
          30,
          31,
          32,
          33,
          34,
          35,
          36,
          37,
          38,
          39,
          40,
          41,
          42,
          43,
          44,
          45,
          46,
          47,
          48,
          49,
          50,
          51,
          52,
          53,
          54,
          55,
          56,
          57,
          58,
          59,
          60,
          61,
          62,
          63,
          64,
          65,
          66,
          67,
          68,
          69,
          70,
          71,
          72,
          73,
          74,
          75,
          76,
          77,
          78,
          79,
          80,
          81,
          82,
          83,
          84,
          85,
          86,
          87,
          88,
          89,
          90,
          91,
          92,
          93,
          94,
          95,
          96,
          97,
          98,
          99
         ],
         "y": [
          684.3148803710938,
          443.8460998535156,
          452.2239685058594,
          439.7157897949219,
          442.1583251953125,
          432.47064208984375,
          431.2880859375,
          458.38287353515625,
          419.2749328613281,
          426.7850646972656,
          416.95928955078125,
          416.5082702636719,
          410.2226867675781,
          397.1833190917969,
          407.4083251953125,
          368.12347412109375,
          412.29656982421875,
          407.2207336425781,
          403.0696716308594,
          414.5005798339844,
          417.40399169921875,
          401.93212890625,
          360.8165283203125,
          377.25396728515625,
          373.17486572265625,
          336.2760925292969,
          357.9467468261719,
          340.7262878417969,
          365.5320739746094,
          365.7138977050781,
          336.4886169433594,
          321.1049499511719,
          323.0067138671875,
          312.5311584472656,
          324.6631774902344,
          334.2259216308594,
          317.255859375,
          319.1294250488281,
          277.31298828125,
          298.98577880859375,
          367.8260498046875,
          296.8301696777344,
          298.9136657714844,
          276.4888000488281,
          254.75445556640625,
          269.5013427734375,
          253.1678009033203,
          300.5308837890625,
          257.9746398925781,
          304.0286865234375,
          258.03436279296875,
          258.4459533691406,
          293.0367431640625,
          252.88955688476562,
          284.2400817871094,
          262.4972839355469,
          247.9513702392578,
          259.76361083984375,
          247.80584716796875,
          259.6040344238281,
          220.95272827148438,
          268.3285217285156,
          244.0323944091797,
          243.99684143066406,
          272.8279724121094,
          235.9419403076172,
          246.3404998779297,
          247.1336212158203,
          250.41461181640625,
          217.6590118408203,
          212.27281188964844,
          219.78936767578125,
          216.4170684814453,
          227.05726623535156,
          230.070556640625,
          232.1880340576172,
          232.72361755371094,
          240.9352264404297,
          250.05162048339844,
          236.19656372070312,
          235.5797576904297,
          232.77281188964844,
          227.68130493164062,
          233.5615997314453,
          215.36268615722656,
          226.18341064453125,
          193.60708618164062,
          204.653076171875,
          245.9443359375,
          253.32664489746094,
          241.22364807128906,
          226.439453125,
          197.55322265625,
          208.81874084472656,
          259.644287109375,
          221.0226593017578,
          215.537841796875,
          190.3126983642578,
          214.38694763183594,
          191.15679931640625
         ]
        },
        {
         "line": {
          "shape": "spline",
          "smoothing": 1.3
         },
         "mode": "lines",
         "type": "scatter",
         "x": [
          0,
          1,
          2,
          3,
          4,
          5,
          6,
          7,
          8,
          9,
          10,
          11,
          12,
          13,
          14,
          15,
          16,
          17,
          18,
          19,
          20,
          21,
          22,
          23,
          24,
          25,
          26,
          27,
          28,
          29,
          30,
          31,
          32,
          33,
          34,
          35,
          36,
          37,
          38,
          39,
          40,
          41,
          42,
          43,
          44,
          45,
          46,
          47,
          48,
          49,
          50,
          51,
          52,
          53,
          54,
          55,
          56,
          57,
          58,
          59,
          60,
          61,
          62,
          63,
          64,
          65,
          66,
          67,
          68,
          69,
          70,
          71,
          72,
          73,
          74,
          75,
          76,
          77,
          78,
          79,
          80,
          81,
          82,
          83,
          84,
          85,
          86,
          87,
          88,
          89,
          90,
          91,
          92,
          93,
          94,
          95,
          96,
          97,
          98,
          99
         ],
         "y": [
          479.7854919433594,
          366.509765625,
          506.80352783203125,
          376.9958801269531,
          532.65966796875,
          438.9461975097656,
          465.7508239746094,
          470.4126892089844,
          439.7997131347656,
          403.1757507324219,
          438.322021484375,
          626.4181518554688,
          411.63653564453125,
          505.9518127441406,
          433.66693115234375,
          477.6353454589844,
          388.52545166015625,
          390.5846252441406,
          491.09246826171875,
          382.5624084472656,
          559.1559448242188,
          359.4485778808594,
          315.94451904296875,
          460.37744140625,
          335.9332580566406,
          324.3026123046875,
          291.032470703125,
          298.33380126953125,
          390.39300537109375,
          308.23480224609375,
          386.4527282714844,
          274.09234619140625,
          381.2419128417969,
          340.857177734375,
          320.2406005859375,
          286.7089538574219,
          332.1474304199219,
          320.60546875,
          259.42669677734375,
          352.9035949707031,
          320.5487365722656,
          336.3027648925781,
          331.2892150878906,
          298.63275146484375,
          305.08306884765625,
          368.24298095703125,
          233.4228057861328,
          244.6951141357422,
          291.6962585449219,
          431.09759521484375,
          285.81219482421875,
          254.42605590820312,
          307.32684326171875,
          252.75765991210938,
          188.95608520507812,
          288.2767639160156,
          241.703857421875,
          259.7755126953125,
          254.10415649414062,
          258.3064880371094,
          302.49322509765625,
          251.01107788085938,
          282.0891418457031,
          240.0552215576172,
          284.33428955078125,
          188.3210906982422,
          326.8719177246094,
          225.9495849609375,
          305.9944763183594,
          178.81529235839844,
          271.680908203125,
          325.06036376953125,
          191.1598358154297,
          175.5853729248047,
          266.228515625,
          318.7108154296875,
          247.32553100585938,
          210.3474578857422,
          279.46685791015625,
          231.0026397705078,
          205.47042846679688,
          242.563232421875,
          292.8793029785156,
          214.0755157470703,
          181.98361206054688,
          252.75546264648438,
          248.3755340576172,
          205.1361541748047,
          232.0822296142578,
          332.1946105957031,
          214.5025177001953,
          201.69989013671875,
          205.6058349609375,
          233.54208374023438,
          257.8572082519531,
          265.14971923828125,
          210.6026611328125,
          202.91232299804688,
          149.0059356689453,
          280.9016418457031
         ]
        }
       ],
       "layout": {
        "template": {
         "data": {
          "bar": [
           {
            "error_x": {
             "color": "#2a3f5f"
            },
            "error_y": {
             "color": "#2a3f5f"
            },
            "marker": {
             "line": {
              "color": "#E5ECF6",
              "width": 0.5
             }
            },
            "type": "bar"
           }
          ],
          "barpolar": [
           {
            "marker": {
             "line": {
              "color": "#E5ECF6",
              "width": 0.5
             }
            },
            "type": "barpolar"
           }
          ],
          "carpet": [
           {
            "aaxis": {
             "endlinecolor": "#2a3f5f",
             "gridcolor": "white",
             "linecolor": "white",
             "minorgridcolor": "white",
             "startlinecolor": "#2a3f5f"
            },
            "baxis": {
             "endlinecolor": "#2a3f5f",
             "gridcolor": "white",
             "linecolor": "white",
             "minorgridcolor": "white",
             "startlinecolor": "#2a3f5f"
            },
            "type": "carpet"
           }
          ],
          "choropleth": [
           {
            "colorbar": {
             "outlinewidth": 0,
             "ticks": ""
            },
            "type": "choropleth"
           }
          ],
          "contour": [
           {
            "colorbar": {
             "outlinewidth": 0,
             "ticks": ""
            },
            "colorscale": [
             [
              0,
              "#0d0887"
             ],
             [
              0.1111111111111111,
              "#46039f"
             ],
             [
              0.2222222222222222,
              "#7201a8"
             ],
             [
              0.3333333333333333,
              "#9c179e"
             ],
             [
              0.4444444444444444,
              "#bd3786"
             ],
             [
              0.5555555555555556,
              "#d8576b"
             ],
             [
              0.6666666666666666,
              "#ed7953"
             ],
             [
              0.7777777777777778,
              "#fb9f3a"
             ],
             [
              0.8888888888888888,
              "#fdca26"
             ],
             [
              1,
              "#f0f921"
             ]
            ],
            "type": "contour"
           }
          ],
          "contourcarpet": [
           {
            "colorbar": {
             "outlinewidth": 0,
             "ticks": ""
            },
            "type": "contourcarpet"
           }
          ],
          "heatmap": [
           {
            "colorbar": {
             "outlinewidth": 0,
             "ticks": ""
            },
            "colorscale": [
             [
              0,
              "#0d0887"
             ],
             [
              0.1111111111111111,
              "#46039f"
             ],
             [
              0.2222222222222222,
              "#7201a8"
             ],
             [
              0.3333333333333333,
              "#9c179e"
             ],
             [
              0.4444444444444444,
              "#bd3786"
             ],
             [
              0.5555555555555556,
              "#d8576b"
             ],
             [
              0.6666666666666666,
              "#ed7953"
             ],
             [
              0.7777777777777778,
              "#fb9f3a"
             ],
             [
              0.8888888888888888,
              "#fdca26"
             ],
             [
              1,
              "#f0f921"
             ]
            ],
            "type": "heatmap"
           }
          ],
          "heatmapgl": [
           {
            "colorbar": {
             "outlinewidth": 0,
             "ticks": ""
            },
            "colorscale": [
             [
              0,
              "#0d0887"
             ],
             [
              0.1111111111111111,
              "#46039f"
             ],
             [
              0.2222222222222222,
              "#7201a8"
             ],
             [
              0.3333333333333333,
              "#9c179e"
             ],
             [
              0.4444444444444444,
              "#bd3786"
             ],
             [
              0.5555555555555556,
              "#d8576b"
             ],
             [
              0.6666666666666666,
              "#ed7953"
             ],
             [
              0.7777777777777778,
              "#fb9f3a"
             ],
             [
              0.8888888888888888,
              "#fdca26"
             ],
             [
              1,
              "#f0f921"
             ]
            ],
            "type": "heatmapgl"
           }
          ],
          "histogram": [
           {
            "marker": {
             "colorbar": {
              "outlinewidth": 0,
              "ticks": ""
             }
            },
            "type": "histogram"
           }
          ],
          "histogram2d": [
           {
            "colorbar": {
             "outlinewidth": 0,
             "ticks": ""
            },
            "colorscale": [
             [
              0,
              "#0d0887"
             ],
             [
              0.1111111111111111,
              "#46039f"
             ],
             [
              0.2222222222222222,
              "#7201a8"
             ],
             [
              0.3333333333333333,
              "#9c179e"
             ],
             [
              0.4444444444444444,
              "#bd3786"
             ],
             [
              0.5555555555555556,
              "#d8576b"
             ],
             [
              0.6666666666666666,
              "#ed7953"
             ],
             [
              0.7777777777777778,
              "#fb9f3a"
             ],
             [
              0.8888888888888888,
              "#fdca26"
             ],
             [
              1,
              "#f0f921"
             ]
            ],
            "type": "histogram2d"
           }
          ],
          "histogram2dcontour": [
           {
            "colorbar": {
             "outlinewidth": 0,
             "ticks": ""
            },
            "colorscale": [
             [
              0,
              "#0d0887"
             ],
             [
              0.1111111111111111,
              "#46039f"
             ],
             [
              0.2222222222222222,
              "#7201a8"
             ],
             [
              0.3333333333333333,
              "#9c179e"
             ],
             [
              0.4444444444444444,
              "#bd3786"
             ],
             [
              0.5555555555555556,
              "#d8576b"
             ],
             [
              0.6666666666666666,
              "#ed7953"
             ],
             [
              0.7777777777777778,
              "#fb9f3a"
             ],
             [
              0.8888888888888888,
              "#fdca26"
             ],
             [
              1,
              "#f0f921"
             ]
            ],
            "type": "histogram2dcontour"
           }
          ],
          "mesh3d": [
           {
            "colorbar": {
             "outlinewidth": 0,
             "ticks": ""
            },
            "type": "mesh3d"
           }
          ],
          "parcoords": [
           {
            "line": {
             "colorbar": {
              "outlinewidth": 0,
              "ticks": ""
             }
            },
            "type": "parcoords"
           }
          ],
          "pie": [
           {
            "automargin": true,
            "type": "pie"
           }
          ],
          "scatter": [
           {
            "marker": {
             "colorbar": {
              "outlinewidth": 0,
              "ticks": ""
             }
            },
            "type": "scatter"
           }
          ],
          "scatter3d": [
           {
            "line": {
             "colorbar": {
              "outlinewidth": 0,
              "ticks": ""
             }
            },
            "marker": {
             "colorbar": {
              "outlinewidth": 0,
              "ticks": ""
             }
            },
            "type": "scatter3d"
           }
          ],
          "scattercarpet": [
           {
            "marker": {
             "colorbar": {
              "outlinewidth": 0,
              "ticks": ""
             }
            },
            "type": "scattercarpet"
           }
          ],
          "scattergeo": [
           {
            "marker": {
             "colorbar": {
              "outlinewidth": 0,
              "ticks": ""
             }
            },
            "type": "scattergeo"
           }
          ],
          "scattergl": [
           {
            "marker": {
             "colorbar": {
              "outlinewidth": 0,
              "ticks": ""
             }
            },
            "type": "scattergl"
           }
          ],
          "scattermapbox": [
           {
            "marker": {
             "colorbar": {
              "outlinewidth": 0,
              "ticks": ""
             }
            },
            "type": "scattermapbox"
           }
          ],
          "scatterpolar": [
           {
            "marker": {
             "colorbar": {
              "outlinewidth": 0,
              "ticks": ""
             }
            },
            "type": "scatterpolar"
           }
          ],
          "scatterpolargl": [
           {
            "marker": {
             "colorbar": {
              "outlinewidth": 0,
              "ticks": ""
             }
            },
            "type": "scatterpolargl"
           }
          ],
          "scatterternary": [
           {
            "marker": {
             "colorbar": {
              "outlinewidth": 0,
              "ticks": ""
             }
            },
            "type": "scatterternary"
           }
          ],
          "surface": [
           {
            "colorbar": {
             "outlinewidth": 0,
             "ticks": ""
            },
            "colorscale": [
             [
              0,
              "#0d0887"
             ],
             [
              0.1111111111111111,
              "#46039f"
             ],
             [
              0.2222222222222222,
              "#7201a8"
             ],
             [
              0.3333333333333333,
              "#9c179e"
             ],
             [
              0.4444444444444444,
              "#bd3786"
             ],
             [
              0.5555555555555556,
              "#d8576b"
             ],
             [
              0.6666666666666666,
              "#ed7953"
             ],
             [
              0.7777777777777778,
              "#fb9f3a"
             ],
             [
              0.8888888888888888,
              "#fdca26"
             ],
             [
              1,
              "#f0f921"
             ]
            ],
            "type": "surface"
           }
          ],
          "table": [
           {
            "cells": {
             "fill": {
              "color": "#EBF0F8"
             },
             "line": {
              "color": "white"
             }
            },
            "header": {
             "fill": {
              "color": "#C8D4E3"
             },
             "line": {
              "color": "white"
             }
            },
            "type": "table"
           }
          ]
         },
         "layout": {
          "annotationdefaults": {
           "arrowcolor": "#2a3f5f",
           "arrowhead": 0,
           "arrowwidth": 1
          },
          "coloraxis": {
           "colorbar": {
            "outlinewidth": 0,
            "ticks": ""
           }
          },
          "colorscale": {
           "diverging": [
            [
             0,
             "#8e0152"
            ],
            [
             0.1,
             "#c51b7d"
            ],
            [
             0.2,
             "#de77ae"
            ],
            [
             0.3,
             "#f1b6da"
            ],
            [
             0.4,
             "#fde0ef"
            ],
            [
             0.5,
             "#f7f7f7"
            ],
            [
             0.6,
             "#e6f5d0"
            ],
            [
             0.7,
             "#b8e186"
            ],
            [
             0.8,
             "#7fbc41"
            ],
            [
             0.9,
             "#4d9221"
            ],
            [
             1,
             "#276419"
            ]
           ],
           "sequential": [
            [
             0,
             "#0d0887"
            ],
            [
             0.1111111111111111,
             "#46039f"
            ],
            [
             0.2222222222222222,
             "#7201a8"
            ],
            [
             0.3333333333333333,
             "#9c179e"
            ],
            [
             0.4444444444444444,
             "#bd3786"
            ],
            [
             0.5555555555555556,
             "#d8576b"
            ],
            [
             0.6666666666666666,
             "#ed7953"
            ],
            [
             0.7777777777777778,
             "#fb9f3a"
            ],
            [
             0.8888888888888888,
             "#fdca26"
            ],
            [
             1,
             "#f0f921"
            ]
           ],
           "sequentialminus": [
            [
             0,
             "#0d0887"
            ],
            [
             0.1111111111111111,
             "#46039f"
            ],
            [
             0.2222222222222222,
             "#7201a8"
            ],
            [
             0.3333333333333333,
             "#9c179e"
            ],
            [
             0.4444444444444444,
             "#bd3786"
            ],
            [
             0.5555555555555556,
             "#d8576b"
            ],
            [
             0.6666666666666666,
             "#ed7953"
            ],
            [
             0.7777777777777778,
             "#fb9f3a"
            ],
            [
             0.8888888888888888,
             "#fdca26"
            ],
            [
             1,
             "#f0f921"
            ]
           ]
          },
          "colorway": [
           "#636efa",
           "#EF553B",
           "#00cc96",
           "#ab63fa",
           "#FFA15A",
           "#19d3f3",
           "#FF6692",
           "#B6E880",
           "#FF97FF",
           "#FECB52"
          ],
          "font": {
           "color": "#2a3f5f"
          },
          "geo": {
           "bgcolor": "white",
           "lakecolor": "white",
           "landcolor": "#E5ECF6",
           "showlakes": true,
           "showland": true,
           "subunitcolor": "white"
          },
          "hoverlabel": {
           "align": "left"
          },
          "hovermode": "closest",
          "mapbox": {
           "style": "light"
          },
          "paper_bgcolor": "white",
          "plot_bgcolor": "#E5ECF6",
          "polar": {
           "angularaxis": {
            "gridcolor": "white",
            "linecolor": "white",
            "ticks": ""
           },
           "bgcolor": "#E5ECF6",
           "radialaxis": {
            "gridcolor": "white",
            "linecolor": "white",
            "ticks": ""
           }
          },
          "scene": {
           "xaxis": {
            "backgroundcolor": "#E5ECF6",
            "gridcolor": "white",
            "gridwidth": 2,
            "linecolor": "white",
            "showbackground": true,
            "ticks": "",
            "zerolinecolor": "white"
           },
           "yaxis": {
            "backgroundcolor": "#E5ECF6",
            "gridcolor": "white",
            "gridwidth": 2,
            "linecolor": "white",
            "showbackground": true,
            "ticks": "",
            "zerolinecolor": "white"
           },
           "zaxis": {
            "backgroundcolor": "#E5ECF6",
            "gridcolor": "white",
            "gridwidth": 2,
            "linecolor": "white",
            "showbackground": true,
            "ticks": "",
            "zerolinecolor": "white"
           }
          },
          "shapedefaults": {
           "line": {
            "color": "#2a3f5f"
           }
          },
          "ternary": {
           "aaxis": {
            "gridcolor": "white",
            "linecolor": "white",
            "ticks": ""
           },
           "baxis": {
            "gridcolor": "white",
            "linecolor": "white",
            "ticks": ""
           },
           "bgcolor": "#E5ECF6",
           "caxis": {
            "gridcolor": "white",
            "linecolor": "white",
            "ticks": ""
           }
          },
          "title": {
           "x": 0.05
          },
          "xaxis": {
           "automargin": true,
           "gridcolor": "white",
           "linecolor": "white",
           "ticks": "",
           "title": {
            "standoff": 15
           },
           "zerolinecolor": "white",
           "zerolinewidth": 2
          },
          "yaxis": {
           "automargin": true,
           "gridcolor": "white",
           "linecolor": "white",
           "ticks": "",
           "title": {
            "standoff": 15
           },
           "zerolinecolor": "white",
           "zerolinewidth": 2
          }
         }
        }
       }
      },
      "text/html": [
       "<div>                            <div id=\"2b76aa3f-51fc-4fe0-913e-ba6bf9fc9a01\" class=\"plotly-graph-div\" style=\"height:525px; width:100%;\"></div>            <script type=\"text/javascript\">                require([\"plotly\"], function(Plotly) {                    window.PLOTLYENV=window.PLOTLYENV || {};                                    if (document.getElementById(\"2b76aa3f-51fc-4fe0-913e-ba6bf9fc9a01\")) {                    Plotly.newPlot(                        \"2b76aa3f-51fc-4fe0-913e-ba6bf9fc9a01\",                        [{\"line\": {\"shape\": \"spline\", \"smoothing\": 1.3}, \"mode\": \"lines\", \"type\": \"scatter\", \"x\": [0, 1, 2, 3, 4, 5, 6, 7, 8, 9, 10, 11, 12, 13, 14, 15, 16, 17, 18, 19, 20, 21, 22, 23, 24, 25, 26, 27, 28, 29, 30, 31, 32, 33, 34, 35, 36, 37, 38, 39, 40, 41, 42, 43, 44, 45, 46, 47, 48, 49, 50, 51, 52, 53, 54, 55, 56, 57, 58, 59, 60, 61, 62, 63, 64, 65, 66, 67, 68, 69, 70, 71, 72, 73, 74, 75, 76, 77, 78, 79, 80, 81, 82, 83, 84, 85, 86, 87, 88, 89, 90, 91, 92, 93, 94, 95, 96, 97, 98, 99], \"y\": [684.3148803710938, 443.8460998535156, 452.2239685058594, 439.7157897949219, 442.1583251953125, 432.47064208984375, 431.2880859375, 458.38287353515625, 419.2749328613281, 426.7850646972656, 416.95928955078125, 416.5082702636719, 410.2226867675781, 397.1833190917969, 407.4083251953125, 368.12347412109375, 412.29656982421875, 407.2207336425781, 403.0696716308594, 414.5005798339844, 417.40399169921875, 401.93212890625, 360.8165283203125, 377.25396728515625, 373.17486572265625, 336.2760925292969, 357.9467468261719, 340.7262878417969, 365.5320739746094, 365.7138977050781, 336.4886169433594, 321.1049499511719, 323.0067138671875, 312.5311584472656, 324.6631774902344, 334.2259216308594, 317.255859375, 319.1294250488281, 277.31298828125, 298.98577880859375, 367.8260498046875, 296.8301696777344, 298.9136657714844, 276.4888000488281, 254.75445556640625, 269.5013427734375, 253.1678009033203, 300.5308837890625, 257.9746398925781, 304.0286865234375, 258.03436279296875, 258.4459533691406, 293.0367431640625, 252.88955688476562, 284.2400817871094, 262.4972839355469, 247.9513702392578, 259.76361083984375, 247.80584716796875, 259.6040344238281, 220.95272827148438, 268.3285217285156, 244.0323944091797, 243.99684143066406, 272.8279724121094, 235.9419403076172, 246.3404998779297, 247.1336212158203, 250.41461181640625, 217.6590118408203, 212.27281188964844, 219.78936767578125, 216.4170684814453, 227.05726623535156, 230.070556640625, 232.1880340576172, 232.72361755371094, 240.9352264404297, 250.05162048339844, 236.19656372070312, 235.5797576904297, 232.77281188964844, 227.68130493164062, 233.5615997314453, 215.36268615722656, 226.18341064453125, 193.60708618164062, 204.653076171875, 245.9443359375, 253.32664489746094, 241.22364807128906, 226.439453125, 197.55322265625, 208.81874084472656, 259.644287109375, 221.0226593017578, 215.537841796875, 190.3126983642578, 214.38694763183594, 191.15679931640625]}, {\"line\": {\"shape\": \"spline\", \"smoothing\": 1.3}, \"mode\": \"lines\", \"type\": \"scatter\", \"x\": [0, 1, 2, 3, 4, 5, 6, 7, 8, 9, 10, 11, 12, 13, 14, 15, 16, 17, 18, 19, 20, 21, 22, 23, 24, 25, 26, 27, 28, 29, 30, 31, 32, 33, 34, 35, 36, 37, 38, 39, 40, 41, 42, 43, 44, 45, 46, 47, 48, 49, 50, 51, 52, 53, 54, 55, 56, 57, 58, 59, 60, 61, 62, 63, 64, 65, 66, 67, 68, 69, 70, 71, 72, 73, 74, 75, 76, 77, 78, 79, 80, 81, 82, 83, 84, 85, 86, 87, 88, 89, 90, 91, 92, 93, 94, 95, 96, 97, 98, 99], \"y\": [479.7854919433594, 366.509765625, 506.80352783203125, 376.9958801269531, 532.65966796875, 438.9461975097656, 465.7508239746094, 470.4126892089844, 439.7997131347656, 403.1757507324219, 438.322021484375, 626.4181518554688, 411.63653564453125, 505.9518127441406, 433.66693115234375, 477.6353454589844, 388.52545166015625, 390.5846252441406, 491.09246826171875, 382.5624084472656, 559.1559448242188, 359.4485778808594, 315.94451904296875, 460.37744140625, 335.9332580566406, 324.3026123046875, 291.032470703125, 298.33380126953125, 390.39300537109375, 308.23480224609375, 386.4527282714844, 274.09234619140625, 381.2419128417969, 340.857177734375, 320.2406005859375, 286.7089538574219, 332.1474304199219, 320.60546875, 259.42669677734375, 352.9035949707031, 320.5487365722656, 336.3027648925781, 331.2892150878906, 298.63275146484375, 305.08306884765625, 368.24298095703125, 233.4228057861328, 244.6951141357422, 291.6962585449219, 431.09759521484375, 285.81219482421875, 254.42605590820312, 307.32684326171875, 252.75765991210938, 188.95608520507812, 288.2767639160156, 241.703857421875, 259.7755126953125, 254.10415649414062, 258.3064880371094, 302.49322509765625, 251.01107788085938, 282.0891418457031, 240.0552215576172, 284.33428955078125, 188.3210906982422, 326.8719177246094, 225.9495849609375, 305.9944763183594, 178.81529235839844, 271.680908203125, 325.06036376953125, 191.1598358154297, 175.5853729248047, 266.228515625, 318.7108154296875, 247.32553100585938, 210.3474578857422, 279.46685791015625, 231.0026397705078, 205.47042846679688, 242.563232421875, 292.8793029785156, 214.0755157470703, 181.98361206054688, 252.75546264648438, 248.3755340576172, 205.1361541748047, 232.0822296142578, 332.1946105957031, 214.5025177001953, 201.69989013671875, 205.6058349609375, 233.54208374023438, 257.8572082519531, 265.14971923828125, 210.6026611328125, 202.91232299804688, 149.0059356689453, 280.9016418457031]}],                        {\"template\": {\"data\": {\"bar\": [{\"error_x\": {\"color\": \"#2a3f5f\"}, \"error_y\": {\"color\": \"#2a3f5f\"}, \"marker\": {\"line\": {\"color\": \"#E5ECF6\", \"width\": 0.5}}, \"type\": \"bar\"}], \"barpolar\": [{\"marker\": {\"line\": {\"color\": \"#E5ECF6\", \"width\": 0.5}}, \"type\": \"barpolar\"}], \"carpet\": [{\"aaxis\": {\"endlinecolor\": \"#2a3f5f\", \"gridcolor\": \"white\", \"linecolor\": \"white\", \"minorgridcolor\": \"white\", \"startlinecolor\": \"#2a3f5f\"}, \"baxis\": {\"endlinecolor\": \"#2a3f5f\", \"gridcolor\": \"white\", \"linecolor\": \"white\", \"minorgridcolor\": \"white\", \"startlinecolor\": \"#2a3f5f\"}, \"type\": \"carpet\"}], \"choropleth\": [{\"colorbar\": {\"outlinewidth\": 0, \"ticks\": \"\"}, \"type\": \"choropleth\"}], \"contour\": [{\"colorbar\": {\"outlinewidth\": 0, \"ticks\": \"\"}, \"colorscale\": [[0.0, \"#0d0887\"], [0.1111111111111111, \"#46039f\"], [0.2222222222222222, \"#7201a8\"], [0.3333333333333333, \"#9c179e\"], [0.4444444444444444, \"#bd3786\"], [0.5555555555555556, \"#d8576b\"], [0.6666666666666666, \"#ed7953\"], [0.7777777777777778, \"#fb9f3a\"], [0.8888888888888888, \"#fdca26\"], [1.0, \"#f0f921\"]], \"type\": \"contour\"}], \"contourcarpet\": [{\"colorbar\": {\"outlinewidth\": 0, \"ticks\": \"\"}, \"type\": \"contourcarpet\"}], \"heatmap\": [{\"colorbar\": {\"outlinewidth\": 0, \"ticks\": \"\"}, \"colorscale\": [[0.0, \"#0d0887\"], [0.1111111111111111, \"#46039f\"], [0.2222222222222222, \"#7201a8\"], [0.3333333333333333, \"#9c179e\"], [0.4444444444444444, \"#bd3786\"], [0.5555555555555556, \"#d8576b\"], [0.6666666666666666, \"#ed7953\"], [0.7777777777777778, \"#fb9f3a\"], [0.8888888888888888, \"#fdca26\"], [1.0, \"#f0f921\"]], \"type\": \"heatmap\"}], \"heatmapgl\": [{\"colorbar\": {\"outlinewidth\": 0, \"ticks\": \"\"}, \"colorscale\": [[0.0, \"#0d0887\"], [0.1111111111111111, \"#46039f\"], [0.2222222222222222, \"#7201a8\"], [0.3333333333333333, \"#9c179e\"], [0.4444444444444444, \"#bd3786\"], [0.5555555555555556, \"#d8576b\"], [0.6666666666666666, \"#ed7953\"], [0.7777777777777778, \"#fb9f3a\"], [0.8888888888888888, \"#fdca26\"], [1.0, \"#f0f921\"]], \"type\": \"heatmapgl\"}], \"histogram\": [{\"marker\": {\"colorbar\": {\"outlinewidth\": 0, \"ticks\": \"\"}}, \"type\": \"histogram\"}], \"histogram2d\": [{\"colorbar\": {\"outlinewidth\": 0, \"ticks\": \"\"}, \"colorscale\": [[0.0, \"#0d0887\"], [0.1111111111111111, \"#46039f\"], [0.2222222222222222, \"#7201a8\"], [0.3333333333333333, \"#9c179e\"], [0.4444444444444444, \"#bd3786\"], [0.5555555555555556, \"#d8576b\"], [0.6666666666666666, \"#ed7953\"], [0.7777777777777778, \"#fb9f3a\"], [0.8888888888888888, \"#fdca26\"], [1.0, \"#f0f921\"]], \"type\": \"histogram2d\"}], \"histogram2dcontour\": [{\"colorbar\": {\"outlinewidth\": 0, \"ticks\": \"\"}, \"colorscale\": [[0.0, \"#0d0887\"], [0.1111111111111111, \"#46039f\"], [0.2222222222222222, \"#7201a8\"], [0.3333333333333333, \"#9c179e\"], [0.4444444444444444, \"#bd3786\"], [0.5555555555555556, \"#d8576b\"], [0.6666666666666666, \"#ed7953\"], [0.7777777777777778, \"#fb9f3a\"], [0.8888888888888888, \"#fdca26\"], [1.0, \"#f0f921\"]], \"type\": \"histogram2dcontour\"}], \"mesh3d\": [{\"colorbar\": {\"outlinewidth\": 0, \"ticks\": \"\"}, \"type\": \"mesh3d\"}], \"parcoords\": [{\"line\": {\"colorbar\": {\"outlinewidth\": 0, \"ticks\": \"\"}}, \"type\": \"parcoords\"}], \"pie\": [{\"automargin\": true, \"type\": \"pie\"}], \"scatter\": [{\"marker\": {\"colorbar\": {\"outlinewidth\": 0, \"ticks\": \"\"}}, \"type\": \"scatter\"}], \"scatter3d\": [{\"line\": {\"colorbar\": {\"outlinewidth\": 0, \"ticks\": \"\"}}, \"marker\": {\"colorbar\": {\"outlinewidth\": 0, \"ticks\": \"\"}}, \"type\": \"scatter3d\"}], \"scattercarpet\": [{\"marker\": {\"colorbar\": {\"outlinewidth\": 0, \"ticks\": \"\"}}, \"type\": \"scattercarpet\"}], \"scattergeo\": [{\"marker\": {\"colorbar\": {\"outlinewidth\": 0, \"ticks\": \"\"}}, \"type\": \"scattergeo\"}], \"scattergl\": [{\"marker\": {\"colorbar\": {\"outlinewidth\": 0, \"ticks\": \"\"}}, \"type\": \"scattergl\"}], \"scattermapbox\": [{\"marker\": {\"colorbar\": {\"outlinewidth\": 0, \"ticks\": \"\"}}, \"type\": \"scattermapbox\"}], \"scatterpolar\": [{\"marker\": {\"colorbar\": {\"outlinewidth\": 0, \"ticks\": \"\"}}, \"type\": \"scatterpolar\"}], \"scatterpolargl\": [{\"marker\": {\"colorbar\": {\"outlinewidth\": 0, \"ticks\": \"\"}}, \"type\": \"scatterpolargl\"}], \"scatterternary\": [{\"marker\": {\"colorbar\": {\"outlinewidth\": 0, \"ticks\": \"\"}}, \"type\": \"scatterternary\"}], \"surface\": [{\"colorbar\": {\"outlinewidth\": 0, \"ticks\": \"\"}, \"colorscale\": [[0.0, \"#0d0887\"], [0.1111111111111111, \"#46039f\"], [0.2222222222222222, \"#7201a8\"], [0.3333333333333333, \"#9c179e\"], [0.4444444444444444, \"#bd3786\"], [0.5555555555555556, \"#d8576b\"], [0.6666666666666666, \"#ed7953\"], [0.7777777777777778, \"#fb9f3a\"], [0.8888888888888888, \"#fdca26\"], [1.0, \"#f0f921\"]], \"type\": \"surface\"}], \"table\": [{\"cells\": {\"fill\": {\"color\": \"#EBF0F8\"}, \"line\": {\"color\": \"white\"}}, \"header\": {\"fill\": {\"color\": \"#C8D4E3\"}, \"line\": {\"color\": \"white\"}}, \"type\": \"table\"}]}, \"layout\": {\"annotationdefaults\": {\"arrowcolor\": \"#2a3f5f\", \"arrowhead\": 0, \"arrowwidth\": 1}, \"coloraxis\": {\"colorbar\": {\"outlinewidth\": 0, \"ticks\": \"\"}}, \"colorscale\": {\"diverging\": [[0, \"#8e0152\"], [0.1, \"#c51b7d\"], [0.2, \"#de77ae\"], [0.3, \"#f1b6da\"], [0.4, \"#fde0ef\"], [0.5, \"#f7f7f7\"], [0.6, \"#e6f5d0\"], [0.7, \"#b8e186\"], [0.8, \"#7fbc41\"], [0.9, \"#4d9221\"], [1, \"#276419\"]], \"sequential\": [[0.0, \"#0d0887\"], [0.1111111111111111, \"#46039f\"], [0.2222222222222222, \"#7201a8\"], [0.3333333333333333, \"#9c179e\"], [0.4444444444444444, \"#bd3786\"], [0.5555555555555556, \"#d8576b\"], [0.6666666666666666, \"#ed7953\"], [0.7777777777777778, \"#fb9f3a\"], [0.8888888888888888, \"#fdca26\"], [1.0, \"#f0f921\"]], \"sequentialminus\": [[0.0, \"#0d0887\"], [0.1111111111111111, \"#46039f\"], [0.2222222222222222, \"#7201a8\"], [0.3333333333333333, \"#9c179e\"], [0.4444444444444444, \"#bd3786\"], [0.5555555555555556, \"#d8576b\"], [0.6666666666666666, \"#ed7953\"], [0.7777777777777778, \"#fb9f3a\"], [0.8888888888888888, \"#fdca26\"], [1.0, \"#f0f921\"]]}, \"colorway\": [\"#636efa\", \"#EF553B\", \"#00cc96\", \"#ab63fa\", \"#FFA15A\", \"#19d3f3\", \"#FF6692\", \"#B6E880\", \"#FF97FF\", \"#FECB52\"], \"font\": {\"color\": \"#2a3f5f\"}, \"geo\": {\"bgcolor\": \"white\", \"lakecolor\": \"white\", \"landcolor\": \"#E5ECF6\", \"showlakes\": true, \"showland\": true, \"subunitcolor\": \"white\"}, \"hoverlabel\": {\"align\": \"left\"}, \"hovermode\": \"closest\", \"mapbox\": {\"style\": \"light\"}, \"paper_bgcolor\": \"white\", \"plot_bgcolor\": \"#E5ECF6\", \"polar\": {\"angularaxis\": {\"gridcolor\": \"white\", \"linecolor\": \"white\", \"ticks\": \"\"}, \"bgcolor\": \"#E5ECF6\", \"radialaxis\": {\"gridcolor\": \"white\", \"linecolor\": \"white\", \"ticks\": \"\"}}, \"scene\": {\"xaxis\": {\"backgroundcolor\": \"#E5ECF6\", \"gridcolor\": \"white\", \"gridwidth\": 2, \"linecolor\": \"white\", \"showbackground\": true, \"ticks\": \"\", \"zerolinecolor\": \"white\"}, \"yaxis\": {\"backgroundcolor\": \"#E5ECF6\", \"gridcolor\": \"white\", \"gridwidth\": 2, \"linecolor\": \"white\", \"showbackground\": true, \"ticks\": \"\", \"zerolinecolor\": \"white\"}, \"zaxis\": {\"backgroundcolor\": \"#E5ECF6\", \"gridcolor\": \"white\", \"gridwidth\": 2, \"linecolor\": \"white\", \"showbackground\": true, \"ticks\": \"\", \"zerolinecolor\": \"white\"}}, \"shapedefaults\": {\"line\": {\"color\": \"#2a3f5f\"}}, \"ternary\": {\"aaxis\": {\"gridcolor\": \"white\", \"linecolor\": \"white\", \"ticks\": \"\"}, \"baxis\": {\"gridcolor\": \"white\", \"linecolor\": \"white\", \"ticks\": \"\"}, \"bgcolor\": \"#E5ECF6\", \"caxis\": {\"gridcolor\": \"white\", \"linecolor\": \"white\", \"ticks\": \"\"}}, \"title\": {\"x\": 0.05}, \"xaxis\": {\"automargin\": true, \"gridcolor\": \"white\", \"linecolor\": \"white\", \"ticks\": \"\", \"title\": {\"standoff\": 15}, \"zerolinecolor\": \"white\", \"zerolinewidth\": 2}, \"yaxis\": {\"automargin\": true, \"gridcolor\": \"white\", \"linecolor\": \"white\", \"ticks\": \"\", \"title\": {\"standoff\": 15}, \"zerolinecolor\": \"white\", \"zerolinewidth\": 2}}}},                        {\"responsive\": true}                    ).then(function(){\n",
       "                            \n",
       "var gd = document.getElementById('2b76aa3f-51fc-4fe0-913e-ba6bf9fc9a01');\n",
       "var x = new MutationObserver(function (mutations, observer) {{\n",
       "        var display = window.getComputedStyle(gd).display;\n",
       "        if (!display || display === 'none') {{\n",
       "            console.log([gd, 'removed!']);\n",
       "            Plotly.purge(gd);\n",
       "            observer.disconnect();\n",
       "        }}\n",
       "}});\n",
       "\n",
       "// Listen for the removal of the full notebook cells\n",
       "var notebookContainer = gd.closest('#notebook-container');\n",
       "if (notebookContainer) {{\n",
       "    x.observe(notebookContainer, {childList: true});\n",
       "}}\n",
       "\n",
       "// Listen for the clearing of the current output cell\n",
       "var outputEl = gd.closest('.output');\n",
       "if (outputEl) {{\n",
       "    x.observe(outputEl, {childList: true});\n",
       "}}\n",
       "\n",
       "                        })                };                });            </script>        </div>"
      ]
     },
     "metadata": {},
     "output_type": "display_data"
    }
   ],
   "source": [
    "train_mae = {'type' : 'scatter', 'mode' : 'lines', \n",
    "            'x' : model_output.epoch, 'y' : model_output.history[\"MAE\"], 'line': {'shape': 'spline', 'smoothing': 1.3},\n",
    "            }\n",
    "\n",
    "val_mae = {'type' : 'scatter', 'mode' : 'lines', \n",
    "'x' : model_output.epoch, 'y' : model_output.history[\"val_MAE\"], 'line': {'shape': 'spline', 'smoothing': 1.3}}\n",
    "\n",
    "train_loss = {'type' : 'scatter', 'mode' : 'lines', \n",
    "'x' : model_output.epoch, 'y' : model_output.history[\"loss\"], 'line': {'shape': 'spline', 'smoothing': 1.3}}\n",
    "\n",
    "\n",
    "val_loss = {'type' : 'scatter', 'mode' : 'lines', \n",
    "'x' : model_output.epoch, 'y' : model_output.history[\"val_loss\"], 'line': {'shape': 'spline', 'smoothing': 1.3}}\n",
    "\n",
    "offline.iplot([train_mae,val_mae])\n",
    "offline.iplot([train_loss,val_loss])"
   ]
  },
  {
   "cell_type": "code",
   "execution_count": null,
   "metadata": {},
   "outputs": [],
   "source": []
  },
  {
   "cell_type": "code",
   "execution_count": null,
   "metadata": {},
   "outputs": [],
   "source": []
  }
 ],
 "metadata": {
  "kernelspec": {
   "display_name": "Python 3",
   "language": "python",
   "name": "python3"
  },
  "language_info": {
   "codemirror_mode": {
    "name": "ipython",
    "version": 3
   },
   "file_extension": ".py",
   "mimetype": "text/x-python",
   "name": "python",
   "nbconvert_exporter": "python",
   "pygments_lexer": "ipython3",
   "version": "3.7.4"
  }
 },
 "nbformat": 4,
 "nbformat_minor": 4
}
